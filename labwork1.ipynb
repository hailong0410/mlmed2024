{
  "metadata": {
    "kernelspec": {
      "display_name": "Python 3",
      "name": "python3"
    },
    "language_info": {
      "name": "python",
      "version": "3.10.13",
      "mimetype": "text/x-python",
      "codemirror_mode": {
        "name": "ipython",
        "version": 3
      },
      "pygments_lexer": "ipython3",
      "nbconvert_exporter": "python",
      "file_extension": ".py"
    },
    "kaggle": {
      "accelerator": "gpu",
      "dataSources": [
        {
          "sourceId": 37484,
          "sourceType": "datasetVersion",
          "datasetId": 29414
        }
      ],
      "dockerImageVersionId": 30646,
      "isInternetEnabled": true,
      "language": "python",
      "sourceType": "notebook",
      "isGpuEnabled": true
    },
    "colab": {
      "provenance": [],
      "gpuType": "T4"
    },
    "accelerator": "GPU"
  },
  "nbformat_minor": 0,
  "nbformat": 4,
  "cells": [
    {
      "source": [
        "\n",
        "# IMPORTANT: RUN THIS CELL IN ORDER TO IMPORT YOUR KAGGLE DATA SOURCES\n",
        "# TO THE CORRECT LOCATION (/kaggle/input) IN YOUR NOTEBOOK,\n",
        "# THEN FEEL FREE TO DELETE THIS CELL.\n",
        "# NOTE: THIS NOTEBOOK ENVIRONMENT DIFFERS FROM KAGGLE'S PYTHON\n",
        "# ENVIRONMENT SO THERE MAY BE MISSING LIBRARIES USED BY YOUR\n",
        "# NOTEBOOK.\n",
        "\n",
        "import os\n",
        "import sys\n",
        "from tempfile import NamedTemporaryFile\n",
        "from urllib.request import urlopen\n",
        "from urllib.parse import unquote, urlparse\n",
        "from urllib.error import HTTPError\n",
        "from zipfile import ZipFile\n",
        "import tarfile\n",
        "import shutil\n",
        "\n",
        "CHUNK_SIZE = 40960\n",
        "DATA_SOURCE_MAPPING = 'heartbeat:https%3A%2F%2Fstorage.googleapis.com%2Fkaggle-data-sets%2F29414%2F37484%2Fbundle%2Farchive.zip%3FX-Goog-Algorithm%3DGOOG4-RSA-SHA256%26X-Goog-Credential%3Dgcp-kaggle-com%2540kaggle-161607.iam.gserviceaccount.com%252F20240312%252Fauto%252Fstorage%252Fgoog4_request%26X-Goog-Date%3D20240312T085329Z%26X-Goog-Expires%3D259200%26X-Goog-SignedHeaders%3Dhost%26X-Goog-Signature%3D14f9df328a9df3a0658692745fa768b4ac82e9f3b0a86e1d77a95252e981245334b183557c0b08db5d03280a5371b0a2dae28f8727d96c1d636482489108da4e5fcf7708f0367431fc8f631ff240960a62e88e651adb8fafc3ed15323e3021fb3b15e159bc02590481bf8456ce79f87e5d3c93fc704470bbc47be608a29c362cc46013166d773e9c0a6056b3b483f6a3058811a0d1606771262fa2c8372f74c16eba2c9a902f4e5b15e6c3cece8bb02e3c8b1f9043e7d8633e3c38f0c7e62da0dd40140c6940cd37570011aeb8c50ddd0ffb64f8673f7ab9f634f95ddeda01412ec73c81dc307f1365f14dba21737520e9d7b8fde175cbf1469939d277f635ea'\n",
        "\n",
        "KAGGLE_INPUT_PATH='/kaggle/input'\n",
        "KAGGLE_WORKING_PATH='/kaggle/working'\n",
        "KAGGLE_SYMLINK='kaggle'\n",
        "\n",
        "!umount /kaggle/input/ 2> /dev/null\n",
        "shutil.rmtree('/kaggle/input', ignore_errors=True)\n",
        "os.makedirs(KAGGLE_INPUT_PATH, 0o777, exist_ok=True)\n",
        "os.makedirs(KAGGLE_WORKING_PATH, 0o777, exist_ok=True)\n",
        "\n",
        "try:\n",
        "  os.symlink(KAGGLE_INPUT_PATH, os.path.join(\"..\", 'input'), target_is_directory=True)\n",
        "except FileExistsError:\n",
        "  pass\n",
        "try:\n",
        "  os.symlink(KAGGLE_WORKING_PATH, os.path.join(\"..\", 'working'), target_is_directory=True)\n",
        "except FileExistsError:\n",
        "  pass\n",
        "\n",
        "for data_source_mapping in DATA_SOURCE_MAPPING.split(','):\n",
        "    directory, download_url_encoded = data_source_mapping.split(':')\n",
        "    download_url = unquote(download_url_encoded)\n",
        "    filename = urlparse(download_url).path\n",
        "    destination_path = os.path.join(KAGGLE_INPUT_PATH, directory)\n",
        "    try:\n",
        "        with urlopen(download_url) as fileres, NamedTemporaryFile() as tfile:\n",
        "            total_length = fileres.headers['content-length']\n",
        "            print(f'Downloading {directory}, {total_length} bytes compressed')\n",
        "            dl = 0\n",
        "            data = fileres.read(CHUNK_SIZE)\n",
        "            while len(data) > 0:\n",
        "                dl += len(data)\n",
        "                tfile.write(data)\n",
        "                done = int(50 * dl / int(total_length))\n",
        "                sys.stdout.write(f\"\\r[{'=' * done}{' ' * (50-done)}] {dl} bytes downloaded\")\n",
        "                sys.stdout.flush()\n",
        "                data = fileres.read(CHUNK_SIZE)\n",
        "            if filename.endswith('.zip'):\n",
        "              with ZipFile(tfile) as zfile:\n",
        "                zfile.extractall(destination_path)\n",
        "            else:\n",
        "              with tarfile.open(tfile.name) as tarfile:\n",
        "                tarfile.extractall(destination_path)\n",
        "            print(f'\\nDownloaded and uncompressed: {directory}')\n",
        "    except HTTPError as e:\n",
        "        print(f'Failed to load (likely expired) {download_url} to path {destination_path}')\n",
        "        continue\n",
        "    except OSError as e:\n",
        "        print(f'Failed to load {download_url} to path {destination_path}')\n",
        "        continue\n",
        "\n",
        "print('Data source import complete.')\n"
      ],
      "metadata": {
        "id": "6S59v7_4bMoO",
        "colab": {
          "base_uri": "https://localhost:8080/"
        },
        "outputId": "15b68049-3827-4158-f12b-c96baa23f6f8"
      },
      "cell_type": "code",
      "outputs": [
        {
          "output_type": "stream",
          "name": "stdout",
          "text": [
            "Downloading heartbeat, 103633768 bytes compressed\n",
            "[==================================================] 103633768 bytes downloaded\n",
            "Downloaded and uncompressed: heartbeat\n",
            "Data source import complete.\n"
          ]
        }
      ],
      "execution_count": 1
    },
    {
      "cell_type": "code",
      "source": [
        "import pandas as pd\n",
        "import numpy as np\n",
        "import torch\n",
        "import torch.nn as nn\n",
        "import torch.nn.functional as F\n",
        "import torch.optim as optim\n",
        "from torch.utils.data import TensorDataset, DataLoader, WeightedRandomSampler\n",
        "from sklearn.model_selection import train_test_split\n",
        "import matplotlib.pyplot as plt\n",
        "import seaborn as sns\n",
        "from copy import deepcopy\n",
        "from sklearn.metrics import confusion_matrix\n",
        "from sklearn.metrics import classification_report\n",
        "from torch.optim.lr_scheduler import StepLR"
      ],
      "metadata": {
        "_uuid": "8f2839f25d086af736a60e9eeb907d3b93b6e0e5",
        "_cell_guid": "b1076dfc-b9ad-4769-8c92-a6c4dae69d19",
        "execution": {
          "iopub.status.busy": "2024-02-18T09:06:31.457232Z",
          "iopub.execute_input": "2024-02-18T09:06:31.458107Z",
          "iopub.status.idle": "2024-02-18T09:06:34.241889Z",
          "shell.execute_reply.started": "2024-02-18T09:06:31.458072Z",
          "shell.execute_reply": "2024-02-18T09:06:34.240933Z"
        },
        "trusted": true,
        "id": "3mTub-EfbMoS"
      },
      "execution_count": 2,
      "outputs": []
    },
    {
      "cell_type": "code",
      "source": [
        "#load csv files to pandas dataframe\n",
        "train_df = pd.read_csv('/kaggle/input/heartbeat/mitbih_train.csv', header=None)"
      ],
      "metadata": {
        "execution": {
          "iopub.status.busy": "2024-02-18T09:06:34.243483Z",
          "iopub.execute_input": "2024-02-18T09:06:34.243879Z",
          "iopub.status.idle": "2024-02-18T09:06:43.937019Z",
          "shell.execute_reply.started": "2024-02-18T09:06:34.243854Z",
          "shell.execute_reply": "2024-02-18T09:06:43.93621Z"
        },
        "trusted": true,
        "id": "-nax37qvbMoT"
      },
      "execution_count": 3,
      "outputs": []
    },
    {
      "cell_type": "code",
      "source": [
        "#the last column is the data label described as category from 0 to 4\n",
        "#so we can use it as a target\n",
        "y_df = train_df.iloc[:, -1]\n",
        "y_df = y_df.astype('int')\n",
        "y_df.head()"
      ],
      "metadata": {
        "execution": {
          "iopub.status.busy": "2024-02-18T09:06:43.938018Z",
          "iopub.execute_input": "2024-02-18T09:06:43.938274Z",
          "iopub.status.idle": "2024-02-18T09:06:43.947565Z",
          "shell.execute_reply.started": "2024-02-18T09:06:43.938252Z",
          "shell.execute_reply": "2024-02-18T09:06:43.946673Z"
        },
        "trusted": true,
        "id": "kkGJiumObMoU",
        "colab": {
          "base_uri": "https://localhost:8080/"
        },
        "outputId": "9b9f7675-bc63-4dc0-d0d6-d109ea6edfc7"
      },
      "execution_count": 4,
      "outputs": [
        {
          "output_type": "execute_result",
          "data": {
            "text/plain": [
              "0    0\n",
              "1    0\n",
              "2    0\n",
              "3    0\n",
              "4    0\n",
              "Name: 187, dtype: int64"
            ]
          },
          "metadata": {},
          "execution_count": 4
        }
      ]
    },
    {
      "cell_type": "code",
      "source": [
        "#the rest are the ecg datapoints so we use them as features\n",
        "X_df = train_df.iloc[:, :-1]\n",
        "X_df.head()"
      ],
      "metadata": {
        "execution": {
          "iopub.status.busy": "2024-02-18T09:06:43.949733Z",
          "iopub.execute_input": "2024-02-18T09:06:43.95002Z",
          "iopub.status.idle": "2024-02-18T09:06:43.994976Z",
          "shell.execute_reply.started": "2024-02-18T09:06:43.949996Z",
          "shell.execute_reply": "2024-02-18T09:06:43.994053Z"
        },
        "trusted": true,
        "id": "XDbE_DmbbMoU",
        "colab": {
          "base_uri": "https://localhost:8080/",
          "height": 235
        },
        "outputId": "43f9111d-5b07-44de-a4d1-35f5f274afab"
      },
      "execution_count": 5,
      "outputs": [
        {
          "output_type": "execute_result",
          "data": {
            "text/plain": [
              "        0         1         2         3         4         5         6    \\\n",
              "0  0.977941  0.926471  0.681373  0.245098  0.154412  0.191176  0.151961   \n",
              "1  0.960114  0.863248  0.461538  0.196581  0.094017  0.125356  0.099715   \n",
              "2  1.000000  0.659459  0.186486  0.070270  0.070270  0.059459  0.056757   \n",
              "3  0.925414  0.665746  0.541436  0.276243  0.196133  0.077348  0.071823   \n",
              "4  0.967136  1.000000  0.830986  0.586854  0.356808  0.248826  0.145540   \n",
              "\n",
              "        7         8         9    ...  177  178  179  180  181  182  183  184  \\\n",
              "0  0.085784  0.058824  0.049020  ...  0.0  0.0  0.0  0.0  0.0  0.0  0.0  0.0   \n",
              "1  0.088319  0.074074  0.082621  ...  0.0  0.0  0.0  0.0  0.0  0.0  0.0  0.0   \n",
              "2  0.043243  0.054054  0.045946  ...  0.0  0.0  0.0  0.0  0.0  0.0  0.0  0.0   \n",
              "3  0.060773  0.066298  0.058011  ...  0.0  0.0  0.0  0.0  0.0  0.0  0.0  0.0   \n",
              "4  0.089202  0.117371  0.150235  ...  0.0  0.0  0.0  0.0  0.0  0.0  0.0  0.0   \n",
              "\n",
              "   185  186  \n",
              "0  0.0  0.0  \n",
              "1  0.0  0.0  \n",
              "2  0.0  0.0  \n",
              "3  0.0  0.0  \n",
              "4  0.0  0.0  \n",
              "\n",
              "[5 rows x 187 columns]"
            ],
            "text/html": [
              "\n",
              "  <div id=\"df-96a923b5-c153-4177-8ff9-48f8e0e3c8a8\" class=\"colab-df-container\">\n",
              "    <div>\n",
              "<style scoped>\n",
              "    .dataframe tbody tr th:only-of-type {\n",
              "        vertical-align: middle;\n",
              "    }\n",
              "\n",
              "    .dataframe tbody tr th {\n",
              "        vertical-align: top;\n",
              "    }\n",
              "\n",
              "    .dataframe thead th {\n",
              "        text-align: right;\n",
              "    }\n",
              "</style>\n",
              "<table border=\"1\" class=\"dataframe\">\n",
              "  <thead>\n",
              "    <tr style=\"text-align: right;\">\n",
              "      <th></th>\n",
              "      <th>0</th>\n",
              "      <th>1</th>\n",
              "      <th>2</th>\n",
              "      <th>3</th>\n",
              "      <th>4</th>\n",
              "      <th>5</th>\n",
              "      <th>6</th>\n",
              "      <th>7</th>\n",
              "      <th>8</th>\n",
              "      <th>9</th>\n",
              "      <th>...</th>\n",
              "      <th>177</th>\n",
              "      <th>178</th>\n",
              "      <th>179</th>\n",
              "      <th>180</th>\n",
              "      <th>181</th>\n",
              "      <th>182</th>\n",
              "      <th>183</th>\n",
              "      <th>184</th>\n",
              "      <th>185</th>\n",
              "      <th>186</th>\n",
              "    </tr>\n",
              "  </thead>\n",
              "  <tbody>\n",
              "    <tr>\n",
              "      <th>0</th>\n",
              "      <td>0.977941</td>\n",
              "      <td>0.926471</td>\n",
              "      <td>0.681373</td>\n",
              "      <td>0.245098</td>\n",
              "      <td>0.154412</td>\n",
              "      <td>0.191176</td>\n",
              "      <td>0.151961</td>\n",
              "      <td>0.085784</td>\n",
              "      <td>0.058824</td>\n",
              "      <td>0.049020</td>\n",
              "      <td>...</td>\n",
              "      <td>0.0</td>\n",
              "      <td>0.0</td>\n",
              "      <td>0.0</td>\n",
              "      <td>0.0</td>\n",
              "      <td>0.0</td>\n",
              "      <td>0.0</td>\n",
              "      <td>0.0</td>\n",
              "      <td>0.0</td>\n",
              "      <td>0.0</td>\n",
              "      <td>0.0</td>\n",
              "    </tr>\n",
              "    <tr>\n",
              "      <th>1</th>\n",
              "      <td>0.960114</td>\n",
              "      <td>0.863248</td>\n",
              "      <td>0.461538</td>\n",
              "      <td>0.196581</td>\n",
              "      <td>0.094017</td>\n",
              "      <td>0.125356</td>\n",
              "      <td>0.099715</td>\n",
              "      <td>0.088319</td>\n",
              "      <td>0.074074</td>\n",
              "      <td>0.082621</td>\n",
              "      <td>...</td>\n",
              "      <td>0.0</td>\n",
              "      <td>0.0</td>\n",
              "      <td>0.0</td>\n",
              "      <td>0.0</td>\n",
              "      <td>0.0</td>\n",
              "      <td>0.0</td>\n",
              "      <td>0.0</td>\n",
              "      <td>0.0</td>\n",
              "      <td>0.0</td>\n",
              "      <td>0.0</td>\n",
              "    </tr>\n",
              "    <tr>\n",
              "      <th>2</th>\n",
              "      <td>1.000000</td>\n",
              "      <td>0.659459</td>\n",
              "      <td>0.186486</td>\n",
              "      <td>0.070270</td>\n",
              "      <td>0.070270</td>\n",
              "      <td>0.059459</td>\n",
              "      <td>0.056757</td>\n",
              "      <td>0.043243</td>\n",
              "      <td>0.054054</td>\n",
              "      <td>0.045946</td>\n",
              "      <td>...</td>\n",
              "      <td>0.0</td>\n",
              "      <td>0.0</td>\n",
              "      <td>0.0</td>\n",
              "      <td>0.0</td>\n",
              "      <td>0.0</td>\n",
              "      <td>0.0</td>\n",
              "      <td>0.0</td>\n",
              "      <td>0.0</td>\n",
              "      <td>0.0</td>\n",
              "      <td>0.0</td>\n",
              "    </tr>\n",
              "    <tr>\n",
              "      <th>3</th>\n",
              "      <td>0.925414</td>\n",
              "      <td>0.665746</td>\n",
              "      <td>0.541436</td>\n",
              "      <td>0.276243</td>\n",
              "      <td>0.196133</td>\n",
              "      <td>0.077348</td>\n",
              "      <td>0.071823</td>\n",
              "      <td>0.060773</td>\n",
              "      <td>0.066298</td>\n",
              "      <td>0.058011</td>\n",
              "      <td>...</td>\n",
              "      <td>0.0</td>\n",
              "      <td>0.0</td>\n",
              "      <td>0.0</td>\n",
              "      <td>0.0</td>\n",
              "      <td>0.0</td>\n",
              "      <td>0.0</td>\n",
              "      <td>0.0</td>\n",
              "      <td>0.0</td>\n",
              "      <td>0.0</td>\n",
              "      <td>0.0</td>\n",
              "    </tr>\n",
              "    <tr>\n",
              "      <th>4</th>\n",
              "      <td>0.967136</td>\n",
              "      <td>1.000000</td>\n",
              "      <td>0.830986</td>\n",
              "      <td>0.586854</td>\n",
              "      <td>0.356808</td>\n",
              "      <td>0.248826</td>\n",
              "      <td>0.145540</td>\n",
              "      <td>0.089202</td>\n",
              "      <td>0.117371</td>\n",
              "      <td>0.150235</td>\n",
              "      <td>...</td>\n",
              "      <td>0.0</td>\n",
              "      <td>0.0</td>\n",
              "      <td>0.0</td>\n",
              "      <td>0.0</td>\n",
              "      <td>0.0</td>\n",
              "      <td>0.0</td>\n",
              "      <td>0.0</td>\n",
              "      <td>0.0</td>\n",
              "      <td>0.0</td>\n",
              "      <td>0.0</td>\n",
              "    </tr>\n",
              "  </tbody>\n",
              "</table>\n",
              "<p>5 rows × 187 columns</p>\n",
              "</div>\n",
              "    <div class=\"colab-df-buttons\">\n",
              "\n",
              "  <div class=\"colab-df-container\">\n",
              "    <button class=\"colab-df-convert\" onclick=\"convertToInteractive('df-96a923b5-c153-4177-8ff9-48f8e0e3c8a8')\"\n",
              "            title=\"Convert this dataframe to an interactive table.\"\n",
              "            style=\"display:none;\">\n",
              "\n",
              "  <svg xmlns=\"http://www.w3.org/2000/svg\" height=\"24px\" viewBox=\"0 -960 960 960\">\n",
              "    <path d=\"M120-120v-720h720v720H120Zm60-500h600v-160H180v160Zm220 220h160v-160H400v160Zm0 220h160v-160H400v160ZM180-400h160v-160H180v160Zm440 0h160v-160H620v160ZM180-180h160v-160H180v160Zm440 0h160v-160H620v160Z\"/>\n",
              "  </svg>\n",
              "    </button>\n",
              "\n",
              "  <style>\n",
              "    .colab-df-container {\n",
              "      display:flex;\n",
              "      gap: 12px;\n",
              "    }\n",
              "\n",
              "    .colab-df-convert {\n",
              "      background-color: #E8F0FE;\n",
              "      border: none;\n",
              "      border-radius: 50%;\n",
              "      cursor: pointer;\n",
              "      display: none;\n",
              "      fill: #1967D2;\n",
              "      height: 32px;\n",
              "      padding: 0 0 0 0;\n",
              "      width: 32px;\n",
              "    }\n",
              "\n",
              "    .colab-df-convert:hover {\n",
              "      background-color: #E2EBFA;\n",
              "      box-shadow: 0px 1px 2px rgba(60, 64, 67, 0.3), 0px 1px 3px 1px rgba(60, 64, 67, 0.15);\n",
              "      fill: #174EA6;\n",
              "    }\n",
              "\n",
              "    .colab-df-buttons div {\n",
              "      margin-bottom: 4px;\n",
              "    }\n",
              "\n",
              "    [theme=dark] .colab-df-convert {\n",
              "      background-color: #3B4455;\n",
              "      fill: #D2E3FC;\n",
              "    }\n",
              "\n",
              "    [theme=dark] .colab-df-convert:hover {\n",
              "      background-color: #434B5C;\n",
              "      box-shadow: 0px 1px 3px 1px rgba(0, 0, 0, 0.15);\n",
              "      filter: drop-shadow(0px 1px 2px rgba(0, 0, 0, 0.3));\n",
              "      fill: #FFFFFF;\n",
              "    }\n",
              "  </style>\n",
              "\n",
              "    <script>\n",
              "      const buttonEl =\n",
              "        document.querySelector('#df-96a923b5-c153-4177-8ff9-48f8e0e3c8a8 button.colab-df-convert');\n",
              "      buttonEl.style.display =\n",
              "        google.colab.kernel.accessAllowed ? 'block' : 'none';\n",
              "\n",
              "      async function convertToInteractive(key) {\n",
              "        const element = document.querySelector('#df-96a923b5-c153-4177-8ff9-48f8e0e3c8a8');\n",
              "        const dataTable =\n",
              "          await google.colab.kernel.invokeFunction('convertToInteractive',\n",
              "                                                    [key], {});\n",
              "        if (!dataTable) return;\n",
              "\n",
              "        const docLinkHtml = 'Like what you see? Visit the ' +\n",
              "          '<a target=\"_blank\" href=https://colab.research.google.com/notebooks/data_table.ipynb>data table notebook</a>'\n",
              "          + ' to learn more about interactive tables.';\n",
              "        element.innerHTML = '';\n",
              "        dataTable['output_type'] = 'display_data';\n",
              "        await google.colab.output.renderOutput(dataTable, element);\n",
              "        const docLink = document.createElement('div');\n",
              "        docLink.innerHTML = docLinkHtml;\n",
              "        element.appendChild(docLink);\n",
              "      }\n",
              "    </script>\n",
              "  </div>\n",
              "\n",
              "\n",
              "<div id=\"df-bdde0c40-1a42-4f17-bde4-0eddf41597d0\">\n",
              "  <button class=\"colab-df-quickchart\" onclick=\"quickchart('df-bdde0c40-1a42-4f17-bde4-0eddf41597d0')\"\n",
              "            title=\"Suggest charts\"\n",
              "            style=\"display:none;\">\n",
              "\n",
              "<svg xmlns=\"http://www.w3.org/2000/svg\" height=\"24px\"viewBox=\"0 0 24 24\"\n",
              "     width=\"24px\">\n",
              "    <g>\n",
              "        <path d=\"M19 3H5c-1.1 0-2 .9-2 2v14c0 1.1.9 2 2 2h14c1.1 0 2-.9 2-2V5c0-1.1-.9-2-2-2zM9 17H7v-7h2v7zm4 0h-2V7h2v10zm4 0h-2v-4h2v4z\"/>\n",
              "    </g>\n",
              "</svg>\n",
              "  </button>\n",
              "\n",
              "<style>\n",
              "  .colab-df-quickchart {\n",
              "      --bg-color: #E8F0FE;\n",
              "      --fill-color: #1967D2;\n",
              "      --hover-bg-color: #E2EBFA;\n",
              "      --hover-fill-color: #174EA6;\n",
              "      --disabled-fill-color: #AAA;\n",
              "      --disabled-bg-color: #DDD;\n",
              "  }\n",
              "\n",
              "  [theme=dark] .colab-df-quickchart {\n",
              "      --bg-color: #3B4455;\n",
              "      --fill-color: #D2E3FC;\n",
              "      --hover-bg-color: #434B5C;\n",
              "      --hover-fill-color: #FFFFFF;\n",
              "      --disabled-bg-color: #3B4455;\n",
              "      --disabled-fill-color: #666;\n",
              "  }\n",
              "\n",
              "  .colab-df-quickchart {\n",
              "    background-color: var(--bg-color);\n",
              "    border: none;\n",
              "    border-radius: 50%;\n",
              "    cursor: pointer;\n",
              "    display: none;\n",
              "    fill: var(--fill-color);\n",
              "    height: 32px;\n",
              "    padding: 0;\n",
              "    width: 32px;\n",
              "  }\n",
              "\n",
              "  .colab-df-quickchart:hover {\n",
              "    background-color: var(--hover-bg-color);\n",
              "    box-shadow: 0 1px 2px rgba(60, 64, 67, 0.3), 0 1px 3px 1px rgba(60, 64, 67, 0.15);\n",
              "    fill: var(--button-hover-fill-color);\n",
              "  }\n",
              "\n",
              "  .colab-df-quickchart-complete:disabled,\n",
              "  .colab-df-quickchart-complete:disabled:hover {\n",
              "    background-color: var(--disabled-bg-color);\n",
              "    fill: var(--disabled-fill-color);\n",
              "    box-shadow: none;\n",
              "  }\n",
              "\n",
              "  .colab-df-spinner {\n",
              "    border: 2px solid var(--fill-color);\n",
              "    border-color: transparent;\n",
              "    border-bottom-color: var(--fill-color);\n",
              "    animation:\n",
              "      spin 1s steps(1) infinite;\n",
              "  }\n",
              "\n",
              "  @keyframes spin {\n",
              "    0% {\n",
              "      border-color: transparent;\n",
              "      border-bottom-color: var(--fill-color);\n",
              "      border-left-color: var(--fill-color);\n",
              "    }\n",
              "    20% {\n",
              "      border-color: transparent;\n",
              "      border-left-color: var(--fill-color);\n",
              "      border-top-color: var(--fill-color);\n",
              "    }\n",
              "    30% {\n",
              "      border-color: transparent;\n",
              "      border-left-color: var(--fill-color);\n",
              "      border-top-color: var(--fill-color);\n",
              "      border-right-color: var(--fill-color);\n",
              "    }\n",
              "    40% {\n",
              "      border-color: transparent;\n",
              "      border-right-color: var(--fill-color);\n",
              "      border-top-color: var(--fill-color);\n",
              "    }\n",
              "    60% {\n",
              "      border-color: transparent;\n",
              "      border-right-color: var(--fill-color);\n",
              "    }\n",
              "    80% {\n",
              "      border-color: transparent;\n",
              "      border-right-color: var(--fill-color);\n",
              "      border-bottom-color: var(--fill-color);\n",
              "    }\n",
              "    90% {\n",
              "      border-color: transparent;\n",
              "      border-bottom-color: var(--fill-color);\n",
              "    }\n",
              "  }\n",
              "</style>\n",
              "\n",
              "  <script>\n",
              "    async function quickchart(key) {\n",
              "      const quickchartButtonEl =\n",
              "        document.querySelector('#' + key + ' button');\n",
              "      quickchartButtonEl.disabled = true;  // To prevent multiple clicks.\n",
              "      quickchartButtonEl.classList.add('colab-df-spinner');\n",
              "      try {\n",
              "        const charts = await google.colab.kernel.invokeFunction(\n",
              "            'suggestCharts', [key], {});\n",
              "      } catch (error) {\n",
              "        console.error('Error during call to suggestCharts:', error);\n",
              "      }\n",
              "      quickchartButtonEl.classList.remove('colab-df-spinner');\n",
              "      quickchartButtonEl.classList.add('colab-df-quickchart-complete');\n",
              "    }\n",
              "    (() => {\n",
              "      let quickchartButtonEl =\n",
              "        document.querySelector('#df-bdde0c40-1a42-4f17-bde4-0eddf41597d0 button');\n",
              "      quickchartButtonEl.style.display =\n",
              "        google.colab.kernel.accessAllowed ? 'block' : 'none';\n",
              "    })();\n",
              "  </script>\n",
              "</div>\n",
              "    </div>\n",
              "  </div>\n"
            ],
            "application/vnd.google.colaboratory.intrinsic+json": {
              "type": "dataframe",
              "variable_name": "X_df"
            }
          },
          "metadata": {},
          "execution_count": 5
        }
      ]
    },
    {
      "cell_type": "code",
      "source": [
        "#convert all feautures to float type\n",
        "X_df = X_df.astype('float')\n",
        "X_df.head()"
      ],
      "metadata": {
        "execution": {
          "iopub.status.busy": "2024-02-18T09:06:43.996103Z",
          "iopub.execute_input": "2024-02-18T09:06:43.996401Z",
          "iopub.status.idle": "2024-02-18T09:06:44.069045Z",
          "shell.execute_reply.started": "2024-02-18T09:06:43.996377Z",
          "shell.execute_reply": "2024-02-18T09:06:44.068036Z"
        },
        "trusted": true,
        "id": "BkPbxtNTbMoV",
        "colab": {
          "base_uri": "https://localhost:8080/",
          "height": 235
        },
        "outputId": "3c482724-8f08-4f45-ffe8-b0a47c02c3fa"
      },
      "execution_count": 6,
      "outputs": [
        {
          "output_type": "execute_result",
          "data": {
            "text/plain": [
              "        0         1         2         3         4         5         6    \\\n",
              "0  0.977941  0.926471  0.681373  0.245098  0.154412  0.191176  0.151961   \n",
              "1  0.960114  0.863248  0.461538  0.196581  0.094017  0.125356  0.099715   \n",
              "2  1.000000  0.659459  0.186486  0.070270  0.070270  0.059459  0.056757   \n",
              "3  0.925414  0.665746  0.541436  0.276243  0.196133  0.077348  0.071823   \n",
              "4  0.967136  1.000000  0.830986  0.586854  0.356808  0.248826  0.145540   \n",
              "\n",
              "        7         8         9    ...  177  178  179  180  181  182  183  184  \\\n",
              "0  0.085784  0.058824  0.049020  ...  0.0  0.0  0.0  0.0  0.0  0.0  0.0  0.0   \n",
              "1  0.088319  0.074074  0.082621  ...  0.0  0.0  0.0  0.0  0.0  0.0  0.0  0.0   \n",
              "2  0.043243  0.054054  0.045946  ...  0.0  0.0  0.0  0.0  0.0  0.0  0.0  0.0   \n",
              "3  0.060773  0.066298  0.058011  ...  0.0  0.0  0.0  0.0  0.0  0.0  0.0  0.0   \n",
              "4  0.089202  0.117371  0.150235  ...  0.0  0.0  0.0  0.0  0.0  0.0  0.0  0.0   \n",
              "\n",
              "   185  186  \n",
              "0  0.0  0.0  \n",
              "1  0.0  0.0  \n",
              "2  0.0  0.0  \n",
              "3  0.0  0.0  \n",
              "4  0.0  0.0  \n",
              "\n",
              "[5 rows x 187 columns]"
            ],
            "text/html": [
              "\n",
              "  <div id=\"df-dd4dd64a-16e2-4233-b353-738a6d98a6fe\" class=\"colab-df-container\">\n",
              "    <div>\n",
              "<style scoped>\n",
              "    .dataframe tbody tr th:only-of-type {\n",
              "        vertical-align: middle;\n",
              "    }\n",
              "\n",
              "    .dataframe tbody tr th {\n",
              "        vertical-align: top;\n",
              "    }\n",
              "\n",
              "    .dataframe thead th {\n",
              "        text-align: right;\n",
              "    }\n",
              "</style>\n",
              "<table border=\"1\" class=\"dataframe\">\n",
              "  <thead>\n",
              "    <tr style=\"text-align: right;\">\n",
              "      <th></th>\n",
              "      <th>0</th>\n",
              "      <th>1</th>\n",
              "      <th>2</th>\n",
              "      <th>3</th>\n",
              "      <th>4</th>\n",
              "      <th>5</th>\n",
              "      <th>6</th>\n",
              "      <th>7</th>\n",
              "      <th>8</th>\n",
              "      <th>9</th>\n",
              "      <th>...</th>\n",
              "      <th>177</th>\n",
              "      <th>178</th>\n",
              "      <th>179</th>\n",
              "      <th>180</th>\n",
              "      <th>181</th>\n",
              "      <th>182</th>\n",
              "      <th>183</th>\n",
              "      <th>184</th>\n",
              "      <th>185</th>\n",
              "      <th>186</th>\n",
              "    </tr>\n",
              "  </thead>\n",
              "  <tbody>\n",
              "    <tr>\n",
              "      <th>0</th>\n",
              "      <td>0.977941</td>\n",
              "      <td>0.926471</td>\n",
              "      <td>0.681373</td>\n",
              "      <td>0.245098</td>\n",
              "      <td>0.154412</td>\n",
              "      <td>0.191176</td>\n",
              "      <td>0.151961</td>\n",
              "      <td>0.085784</td>\n",
              "      <td>0.058824</td>\n",
              "      <td>0.049020</td>\n",
              "      <td>...</td>\n",
              "      <td>0.0</td>\n",
              "      <td>0.0</td>\n",
              "      <td>0.0</td>\n",
              "      <td>0.0</td>\n",
              "      <td>0.0</td>\n",
              "      <td>0.0</td>\n",
              "      <td>0.0</td>\n",
              "      <td>0.0</td>\n",
              "      <td>0.0</td>\n",
              "      <td>0.0</td>\n",
              "    </tr>\n",
              "    <tr>\n",
              "      <th>1</th>\n",
              "      <td>0.960114</td>\n",
              "      <td>0.863248</td>\n",
              "      <td>0.461538</td>\n",
              "      <td>0.196581</td>\n",
              "      <td>0.094017</td>\n",
              "      <td>0.125356</td>\n",
              "      <td>0.099715</td>\n",
              "      <td>0.088319</td>\n",
              "      <td>0.074074</td>\n",
              "      <td>0.082621</td>\n",
              "      <td>...</td>\n",
              "      <td>0.0</td>\n",
              "      <td>0.0</td>\n",
              "      <td>0.0</td>\n",
              "      <td>0.0</td>\n",
              "      <td>0.0</td>\n",
              "      <td>0.0</td>\n",
              "      <td>0.0</td>\n",
              "      <td>0.0</td>\n",
              "      <td>0.0</td>\n",
              "      <td>0.0</td>\n",
              "    </tr>\n",
              "    <tr>\n",
              "      <th>2</th>\n",
              "      <td>1.000000</td>\n",
              "      <td>0.659459</td>\n",
              "      <td>0.186486</td>\n",
              "      <td>0.070270</td>\n",
              "      <td>0.070270</td>\n",
              "      <td>0.059459</td>\n",
              "      <td>0.056757</td>\n",
              "      <td>0.043243</td>\n",
              "      <td>0.054054</td>\n",
              "      <td>0.045946</td>\n",
              "      <td>...</td>\n",
              "      <td>0.0</td>\n",
              "      <td>0.0</td>\n",
              "      <td>0.0</td>\n",
              "      <td>0.0</td>\n",
              "      <td>0.0</td>\n",
              "      <td>0.0</td>\n",
              "      <td>0.0</td>\n",
              "      <td>0.0</td>\n",
              "      <td>0.0</td>\n",
              "      <td>0.0</td>\n",
              "    </tr>\n",
              "    <tr>\n",
              "      <th>3</th>\n",
              "      <td>0.925414</td>\n",
              "      <td>0.665746</td>\n",
              "      <td>0.541436</td>\n",
              "      <td>0.276243</td>\n",
              "      <td>0.196133</td>\n",
              "      <td>0.077348</td>\n",
              "      <td>0.071823</td>\n",
              "      <td>0.060773</td>\n",
              "      <td>0.066298</td>\n",
              "      <td>0.058011</td>\n",
              "      <td>...</td>\n",
              "      <td>0.0</td>\n",
              "      <td>0.0</td>\n",
              "      <td>0.0</td>\n",
              "      <td>0.0</td>\n",
              "      <td>0.0</td>\n",
              "      <td>0.0</td>\n",
              "      <td>0.0</td>\n",
              "      <td>0.0</td>\n",
              "      <td>0.0</td>\n",
              "      <td>0.0</td>\n",
              "    </tr>\n",
              "    <tr>\n",
              "      <th>4</th>\n",
              "      <td>0.967136</td>\n",
              "      <td>1.000000</td>\n",
              "      <td>0.830986</td>\n",
              "      <td>0.586854</td>\n",
              "      <td>0.356808</td>\n",
              "      <td>0.248826</td>\n",
              "      <td>0.145540</td>\n",
              "      <td>0.089202</td>\n",
              "      <td>0.117371</td>\n",
              "      <td>0.150235</td>\n",
              "      <td>...</td>\n",
              "      <td>0.0</td>\n",
              "      <td>0.0</td>\n",
              "      <td>0.0</td>\n",
              "      <td>0.0</td>\n",
              "      <td>0.0</td>\n",
              "      <td>0.0</td>\n",
              "      <td>0.0</td>\n",
              "      <td>0.0</td>\n",
              "      <td>0.0</td>\n",
              "      <td>0.0</td>\n",
              "    </tr>\n",
              "  </tbody>\n",
              "</table>\n",
              "<p>5 rows × 187 columns</p>\n",
              "</div>\n",
              "    <div class=\"colab-df-buttons\">\n",
              "\n",
              "  <div class=\"colab-df-container\">\n",
              "    <button class=\"colab-df-convert\" onclick=\"convertToInteractive('df-dd4dd64a-16e2-4233-b353-738a6d98a6fe')\"\n",
              "            title=\"Convert this dataframe to an interactive table.\"\n",
              "            style=\"display:none;\">\n",
              "\n",
              "  <svg xmlns=\"http://www.w3.org/2000/svg\" height=\"24px\" viewBox=\"0 -960 960 960\">\n",
              "    <path d=\"M120-120v-720h720v720H120Zm60-500h600v-160H180v160Zm220 220h160v-160H400v160Zm0 220h160v-160H400v160ZM180-400h160v-160H180v160Zm440 0h160v-160H620v160ZM180-180h160v-160H180v160Zm440 0h160v-160H620v160Z\"/>\n",
              "  </svg>\n",
              "    </button>\n",
              "\n",
              "  <style>\n",
              "    .colab-df-container {\n",
              "      display:flex;\n",
              "      gap: 12px;\n",
              "    }\n",
              "\n",
              "    .colab-df-convert {\n",
              "      background-color: #E8F0FE;\n",
              "      border: none;\n",
              "      border-radius: 50%;\n",
              "      cursor: pointer;\n",
              "      display: none;\n",
              "      fill: #1967D2;\n",
              "      height: 32px;\n",
              "      padding: 0 0 0 0;\n",
              "      width: 32px;\n",
              "    }\n",
              "\n",
              "    .colab-df-convert:hover {\n",
              "      background-color: #E2EBFA;\n",
              "      box-shadow: 0px 1px 2px rgba(60, 64, 67, 0.3), 0px 1px 3px 1px rgba(60, 64, 67, 0.15);\n",
              "      fill: #174EA6;\n",
              "    }\n",
              "\n",
              "    .colab-df-buttons div {\n",
              "      margin-bottom: 4px;\n",
              "    }\n",
              "\n",
              "    [theme=dark] .colab-df-convert {\n",
              "      background-color: #3B4455;\n",
              "      fill: #D2E3FC;\n",
              "    }\n",
              "\n",
              "    [theme=dark] .colab-df-convert:hover {\n",
              "      background-color: #434B5C;\n",
              "      box-shadow: 0px 1px 3px 1px rgba(0, 0, 0, 0.15);\n",
              "      filter: drop-shadow(0px 1px 2px rgba(0, 0, 0, 0.3));\n",
              "      fill: #FFFFFF;\n",
              "    }\n",
              "  </style>\n",
              "\n",
              "    <script>\n",
              "      const buttonEl =\n",
              "        document.querySelector('#df-dd4dd64a-16e2-4233-b353-738a6d98a6fe button.colab-df-convert');\n",
              "      buttonEl.style.display =\n",
              "        google.colab.kernel.accessAllowed ? 'block' : 'none';\n",
              "\n",
              "      async function convertToInteractive(key) {\n",
              "        const element = document.querySelector('#df-dd4dd64a-16e2-4233-b353-738a6d98a6fe');\n",
              "        const dataTable =\n",
              "          await google.colab.kernel.invokeFunction('convertToInteractive',\n",
              "                                                    [key], {});\n",
              "        if (!dataTable) return;\n",
              "\n",
              "        const docLinkHtml = 'Like what you see? Visit the ' +\n",
              "          '<a target=\"_blank\" href=https://colab.research.google.com/notebooks/data_table.ipynb>data table notebook</a>'\n",
              "          + ' to learn more about interactive tables.';\n",
              "        element.innerHTML = '';\n",
              "        dataTable['output_type'] = 'display_data';\n",
              "        await google.colab.output.renderOutput(dataTable, element);\n",
              "        const docLink = document.createElement('div');\n",
              "        docLink.innerHTML = docLinkHtml;\n",
              "        element.appendChild(docLink);\n",
              "      }\n",
              "    </script>\n",
              "  </div>\n",
              "\n",
              "\n",
              "<div id=\"df-2af1ad1e-1e59-4c2c-a1b6-f513734e2856\">\n",
              "  <button class=\"colab-df-quickchart\" onclick=\"quickchart('df-2af1ad1e-1e59-4c2c-a1b6-f513734e2856')\"\n",
              "            title=\"Suggest charts\"\n",
              "            style=\"display:none;\">\n",
              "\n",
              "<svg xmlns=\"http://www.w3.org/2000/svg\" height=\"24px\"viewBox=\"0 0 24 24\"\n",
              "     width=\"24px\">\n",
              "    <g>\n",
              "        <path d=\"M19 3H5c-1.1 0-2 .9-2 2v14c0 1.1.9 2 2 2h14c1.1 0 2-.9 2-2V5c0-1.1-.9-2-2-2zM9 17H7v-7h2v7zm4 0h-2V7h2v10zm4 0h-2v-4h2v4z\"/>\n",
              "    </g>\n",
              "</svg>\n",
              "  </button>\n",
              "\n",
              "<style>\n",
              "  .colab-df-quickchart {\n",
              "      --bg-color: #E8F0FE;\n",
              "      --fill-color: #1967D2;\n",
              "      --hover-bg-color: #E2EBFA;\n",
              "      --hover-fill-color: #174EA6;\n",
              "      --disabled-fill-color: #AAA;\n",
              "      --disabled-bg-color: #DDD;\n",
              "  }\n",
              "\n",
              "  [theme=dark] .colab-df-quickchart {\n",
              "      --bg-color: #3B4455;\n",
              "      --fill-color: #D2E3FC;\n",
              "      --hover-bg-color: #434B5C;\n",
              "      --hover-fill-color: #FFFFFF;\n",
              "      --disabled-bg-color: #3B4455;\n",
              "      --disabled-fill-color: #666;\n",
              "  }\n",
              "\n",
              "  .colab-df-quickchart {\n",
              "    background-color: var(--bg-color);\n",
              "    border: none;\n",
              "    border-radius: 50%;\n",
              "    cursor: pointer;\n",
              "    display: none;\n",
              "    fill: var(--fill-color);\n",
              "    height: 32px;\n",
              "    padding: 0;\n",
              "    width: 32px;\n",
              "  }\n",
              "\n",
              "  .colab-df-quickchart:hover {\n",
              "    background-color: var(--hover-bg-color);\n",
              "    box-shadow: 0 1px 2px rgba(60, 64, 67, 0.3), 0 1px 3px 1px rgba(60, 64, 67, 0.15);\n",
              "    fill: var(--button-hover-fill-color);\n",
              "  }\n",
              "\n",
              "  .colab-df-quickchart-complete:disabled,\n",
              "  .colab-df-quickchart-complete:disabled:hover {\n",
              "    background-color: var(--disabled-bg-color);\n",
              "    fill: var(--disabled-fill-color);\n",
              "    box-shadow: none;\n",
              "  }\n",
              "\n",
              "  .colab-df-spinner {\n",
              "    border: 2px solid var(--fill-color);\n",
              "    border-color: transparent;\n",
              "    border-bottom-color: var(--fill-color);\n",
              "    animation:\n",
              "      spin 1s steps(1) infinite;\n",
              "  }\n",
              "\n",
              "  @keyframes spin {\n",
              "    0% {\n",
              "      border-color: transparent;\n",
              "      border-bottom-color: var(--fill-color);\n",
              "      border-left-color: var(--fill-color);\n",
              "    }\n",
              "    20% {\n",
              "      border-color: transparent;\n",
              "      border-left-color: var(--fill-color);\n",
              "      border-top-color: var(--fill-color);\n",
              "    }\n",
              "    30% {\n",
              "      border-color: transparent;\n",
              "      border-left-color: var(--fill-color);\n",
              "      border-top-color: var(--fill-color);\n",
              "      border-right-color: var(--fill-color);\n",
              "    }\n",
              "    40% {\n",
              "      border-color: transparent;\n",
              "      border-right-color: var(--fill-color);\n",
              "      border-top-color: var(--fill-color);\n",
              "    }\n",
              "    60% {\n",
              "      border-color: transparent;\n",
              "      border-right-color: var(--fill-color);\n",
              "    }\n",
              "    80% {\n",
              "      border-color: transparent;\n",
              "      border-right-color: var(--fill-color);\n",
              "      border-bottom-color: var(--fill-color);\n",
              "    }\n",
              "    90% {\n",
              "      border-color: transparent;\n",
              "      border-bottom-color: var(--fill-color);\n",
              "    }\n",
              "  }\n",
              "</style>\n",
              "\n",
              "  <script>\n",
              "    async function quickchart(key) {\n",
              "      const quickchartButtonEl =\n",
              "        document.querySelector('#' + key + ' button');\n",
              "      quickchartButtonEl.disabled = true;  // To prevent multiple clicks.\n",
              "      quickchartButtonEl.classList.add('colab-df-spinner');\n",
              "      try {\n",
              "        const charts = await google.colab.kernel.invokeFunction(\n",
              "            'suggestCharts', [key], {});\n",
              "      } catch (error) {\n",
              "        console.error('Error during call to suggestCharts:', error);\n",
              "      }\n",
              "      quickchartButtonEl.classList.remove('colab-df-spinner');\n",
              "      quickchartButtonEl.classList.add('colab-df-quickchart-complete');\n",
              "    }\n",
              "    (() => {\n",
              "      let quickchartButtonEl =\n",
              "        document.querySelector('#df-2af1ad1e-1e59-4c2c-a1b6-f513734e2856 button');\n",
              "      quickchartButtonEl.style.display =\n",
              "        google.colab.kernel.accessAllowed ? 'block' : 'none';\n",
              "    })();\n",
              "  </script>\n",
              "</div>\n",
              "    </div>\n",
              "  </div>\n"
            ],
            "application/vnd.google.colaboratory.intrinsic+json": {
              "type": "dataframe",
              "variable_name": "X_df"
            }
          },
          "metadata": {},
          "execution_count": 6
        }
      ]
    },
    {
      "cell_type": "code",
      "source": [
        "#we actually dont need to one hot encode the target since we are using cross entropy loss and it runs more efficiently when we pass in the target as indices\n",
        "#print out the unique values in the target\n",
        "unique, counts = np.unique(y_df, return_counts=True)\n",
        "print(f'unique values: {unique}')\n",
        "print(f'counts: {counts}')"
      ],
      "metadata": {
        "execution": {
          "iopub.status.busy": "2024-02-18T09:06:44.070439Z",
          "iopub.execute_input": "2024-02-18T09:06:44.071043Z",
          "iopub.status.idle": "2024-02-18T09:06:44.083218Z",
          "shell.execute_reply.started": "2024-02-18T09:06:44.071011Z",
          "shell.execute_reply": "2024-02-18T09:06:44.082336Z"
        },
        "trusted": true,
        "id": "L_ldZUSYbMoW",
        "colab": {
          "base_uri": "https://localhost:8080/"
        },
        "outputId": "c5dc7fc2-fe86-4d73-9b07-01ef161fd37c"
      },
      "execution_count": 7,
      "outputs": [
        {
          "output_type": "stream",
          "name": "stdout",
          "text": [
            "unique values: [0 1 2 3 4]\n",
            "counts: [72471  2223  5788   641  6431]\n"
          ]
        }
      ]
    },
    {
      "cell_type": "code",
      "source": [
        "#make a dictionary to map the target indices to class names\n",
        "class_names = {0: 'N', 1: 'S', 2: 'V', 3: 'F', 4: 'Q'}"
      ],
      "metadata": {
        "execution": {
          "iopub.status.busy": "2024-02-18T09:06:44.084238Z",
          "iopub.execute_input": "2024-02-18T09:06:44.084541Z",
          "iopub.status.idle": "2024-02-18T09:06:44.089847Z",
          "shell.execute_reply.started": "2024-02-18T09:06:44.084489Z",
          "shell.execute_reply": "2024-02-18T09:06:44.08891Z"
        },
        "trusted": true,
        "id": "c5zly1mKbMoX"
      },
      "execution_count": 8,
      "outputs": []
    },
    {
      "cell_type": "code",
      "source": [
        "#the input dims are 187 and the output dims are 5\n",
        "#we want the input to be (batch_size, 1, 187) and the output to be (batch_size, 5) because the input has one channel and the output has 5 classes\n",
        "X_np = X_df.to_numpy()\n",
        "X_np.shape"
      ],
      "metadata": {
        "execution": {
          "iopub.status.busy": "2024-02-18T09:06:44.091086Z",
          "iopub.execute_input": "2024-02-18T09:06:44.091379Z",
          "iopub.status.idle": "2024-02-18T09:06:44.098989Z",
          "shell.execute_reply.started": "2024-02-18T09:06:44.091347Z",
          "shell.execute_reply": "2024-02-18T09:06:44.098111Z"
        },
        "trusted": true,
        "id": "RLAnbvIibMoX",
        "colab": {
          "base_uri": "https://localhost:8080/"
        },
        "outputId": "d7ca8ec6-75d9-4e25-e048-7106b29a9cc4"
      },
      "execution_count": 9,
      "outputs": [
        {
          "output_type": "execute_result",
          "data": {
            "text/plain": [
              "(87554, 187)"
            ]
          },
          "metadata": {},
          "execution_count": 9
        }
      ]
    },
    {
      "cell_type": "code",
      "source": [
        "#we want to add a channel dimension to the input\n",
        "X_np = X_np.reshape(-1, 1, 187)\n",
        "X_np.shape"
      ],
      "metadata": {
        "execution": {
          "iopub.status.busy": "2024-02-18T09:06:44.09998Z",
          "iopub.execute_input": "2024-02-18T09:06:44.100274Z",
          "iopub.status.idle": "2024-02-18T09:06:44.107516Z",
          "shell.execute_reply.started": "2024-02-18T09:06:44.100238Z",
          "shell.execute_reply": "2024-02-18T09:06:44.106686Z"
        },
        "trusted": true,
        "id": "g6yD_IDmbMoY",
        "colab": {
          "base_uri": "https://localhost:8080/"
        },
        "outputId": "70a22598-e8c2-452a-ab83-045e863dd614"
      },
      "execution_count": 10,
      "outputs": [
        {
          "output_type": "execute_result",
          "data": {
            "text/plain": [
              "(87554, 1, 187)"
            ]
          },
          "metadata": {},
          "execution_count": 10
        }
      ]
    },
    {
      "cell_type": "code",
      "source": [
        "#do the same for the target\n",
        "y_np = y_df.to_numpy()\n",
        "y_np.shape"
      ],
      "metadata": {
        "execution": {
          "iopub.status.busy": "2024-02-18T09:06:44.111309Z",
          "iopub.execute_input": "2024-02-18T09:06:44.111635Z",
          "iopub.status.idle": "2024-02-18T09:06:44.117855Z",
          "shell.execute_reply.started": "2024-02-18T09:06:44.111609Z",
          "shell.execute_reply": "2024-02-18T09:06:44.116862Z"
        },
        "trusted": true,
        "id": "fVH8ny_HbMoZ",
        "colab": {
          "base_uri": "https://localhost:8080/"
        },
        "outputId": "971d09e6-84a8-45a2-f3b5-44ccb3362002"
      },
      "execution_count": 11,
      "outputs": [
        {
          "output_type": "execute_result",
          "data": {
            "text/plain": [
              "(87554,)"
            ]
          },
          "metadata": {},
          "execution_count": 11
        }
      ]
    },
    {
      "cell_type": "code",
      "source": [
        "y_np = y_np.reshape(-1, 1)\n",
        "y_np.shape"
      ],
      "metadata": {
        "execution": {
          "iopub.status.busy": "2024-02-18T09:06:44.118943Z",
          "iopub.execute_input": "2024-02-18T09:06:44.119227Z",
          "iopub.status.idle": "2024-02-18T09:06:44.127254Z",
          "shell.execute_reply.started": "2024-02-18T09:06:44.119194Z",
          "shell.execute_reply": "2024-02-18T09:06:44.126373Z"
        },
        "trusted": true,
        "id": "DbMP8LSubMob",
        "colab": {
          "base_uri": "https://localhost:8080/"
        },
        "outputId": "f33829e5-7f58-4deb-9b86-c5e55bd5521b"
      },
      "execution_count": 12,
      "outputs": [
        {
          "output_type": "execute_result",
          "data": {
            "text/plain": [
              "(87554, 1)"
            ]
          },
          "metadata": {},
          "execution_count": 12
        }
      ]
    },
    {
      "cell_type": "code",
      "source": [
        "#perfect, we now have the input and target in the correct shape\n",
        "X_mean = X_np.mean()\n",
        "X_std = X_np.std()\n",
        "X_max = X_np.max()\n",
        "X_min = X_np.min()\n",
        "print(f'mean before normalization: {X_mean}')\n",
        "print(f'std: {X_std}')\n",
        "print(f'max: {X_max}')"
      ],
      "metadata": {
        "execution": {
          "iopub.status.busy": "2024-02-18T09:06:44.1283Z",
          "iopub.execute_input": "2024-02-18T09:06:44.128587Z",
          "iopub.status.idle": "2024-02-18T09:06:44.241735Z",
          "shell.execute_reply.started": "2024-02-18T09:06:44.128553Z",
          "shell.execute_reply": "2024-02-18T09:06:44.240851Z"
        },
        "trusted": true,
        "id": "klPUUKubbMoc",
        "colab": {
          "base_uri": "https://localhost:8080/"
        },
        "outputId": "ba7e733e-313a-4f1a-ee5e-a2a1dd4c9ce9"
      },
      "execution_count": 13,
      "outputs": [
        {
          "output_type": "stream",
          "name": "stdout",
          "text": [
            "mean before normalization: 0.17428295254906354\n",
            "std: 0.22632738719052128\n",
            "max: 1.0\n"
          ]
        }
      ]
    },
    {
      "cell_type": "code",
      "source": [
        "#we need to subtract the mean from the data\n",
        "X_norm = X_np - X_mean\n",
        "#then multiply by 1/std to make the std = 1\n",
        "X_norm *= 1/X_std"
      ],
      "metadata": {
        "execution": {
          "iopub.status.busy": "2024-02-18T09:06:44.242958Z",
          "iopub.execute_input": "2024-02-18T09:06:44.243783Z",
          "iopub.status.idle": "2024-02-18T09:06:44.298037Z",
          "shell.execute_reply.started": "2024-02-18T09:06:44.24375Z",
          "shell.execute_reply": "2024-02-18T09:06:44.297242Z"
        },
        "trusted": true,
        "id": "t6CI6KetbMoc"
      },
      "execution_count": 14,
      "outputs": []
    },
    {
      "cell_type": "code",
      "source": [
        "print(X_norm.shape)\n",
        "print(f'new mean is {X_norm.mean()}')\n",
        "print(f'new std is {X_norm.std()}')"
      ],
      "metadata": {
        "execution": {
          "iopub.status.busy": "2024-02-18T09:06:44.299204Z",
          "iopub.execute_input": "2024-02-18T09:06:44.299539Z",
          "iopub.status.idle": "2024-02-18T09:06:44.385995Z",
          "shell.execute_reply.started": "2024-02-18T09:06:44.299508Z",
          "shell.execute_reply": "2024-02-18T09:06:44.385077Z"
        },
        "trusted": true,
        "id": "6su3k3UCbMoc",
        "colab": {
          "base_uri": "https://localhost:8080/"
        },
        "outputId": "ecba6997-347a-452d-fca0-2437536f818c"
      },
      "execution_count": 15,
      "outputs": [
        {
          "output_type": "stream",
          "name": "stdout",
          "text": [
            "(87554, 1, 187)\n",
            "new mean is 1.5088439287128576e-15\n",
            "new std is 1.0000000000000004\n"
          ]
        }
      ]
    },
    {
      "cell_type": "code",
      "source": [
        "X_norm.shape #representing the input data as a sequence of 187 points"
      ],
      "metadata": {
        "execution": {
          "iopub.status.busy": "2024-02-18T09:06:44.387264Z",
          "iopub.execute_input": "2024-02-18T09:06:44.387627Z",
          "iopub.status.idle": "2024-02-18T09:06:44.394009Z",
          "shell.execute_reply.started": "2024-02-18T09:06:44.38759Z",
          "shell.execute_reply": "2024-02-18T09:06:44.3932Z"
        },
        "trusted": true,
        "id": "5xZBlav_bMoc",
        "colab": {
          "base_uri": "https://localhost:8080/"
        },
        "outputId": "32460670-d20e-451e-9f82-bac5f45e11d6"
      },
      "execution_count": 16,
      "outputs": [
        {
          "output_type": "execute_result",
          "data": {
            "text/plain": [
              "(87554, 1, 187)"
            ]
          },
          "metadata": {},
          "execution_count": 16
        }
      ]
    },
    {
      "cell_type": "code",
      "source": [
        "y_np.shape #representing the target as indices 0 to 4"
      ],
      "metadata": {
        "execution": {
          "iopub.status.busy": "2024-02-18T09:06:44.395427Z",
          "iopub.execute_input": "2024-02-18T09:06:44.395911Z",
          "iopub.status.idle": "2024-02-18T09:06:44.402876Z",
          "shell.execute_reply.started": "2024-02-18T09:06:44.395878Z",
          "shell.execute_reply": "2024-02-18T09:06:44.402014Z"
        },
        "trusted": true,
        "id": "vfKjXISzbMod",
        "colab": {
          "base_uri": "https://localhost:8080/"
        },
        "outputId": "e9dffa23-4b79-4ab0-f25b-afb2367e6b01"
      },
      "execution_count": 17,
      "outputs": [
        {
          "output_type": "execute_result",
          "data": {
            "text/plain": [
              "(87554, 1)"
            ]
          },
          "metadata": {},
          "execution_count": 17
        }
      ]
    },
    {
      "cell_type": "markdown",
      "source": [
        "Saving the normalized variables"
      ],
      "metadata": {
        "id": "Ry2rwi2kbMod"
      }
    },
    {
      "cell_type": "code",
      "source": [
        "#saving the normalized data to a csv file\n",
        "np.savetxt('X_norm.csv', X_norm.squeeze(), delimiter=',')\n",
        "np.savetxt('y_np.csv', y_np, delimiter=',')\n",
        "# np.loadtxt('X_norm.csv', delimiter=',').shape"
      ],
      "metadata": {
        "execution": {
          "iopub.status.busy": "2024-02-18T09:06:44.404113Z",
          "iopub.execute_input": "2024-02-18T09:06:44.404423Z",
          "iopub.status.idle": "2024-02-18T09:06:59.959531Z",
          "shell.execute_reply.started": "2024-02-18T09:06:44.404394Z",
          "shell.execute_reply": "2024-02-18T09:06:59.95854Z"
        },
        "trusted": true,
        "id": "VV2h_4wQbMof"
      },
      "execution_count": 18,
      "outputs": []
    },
    {
      "cell_type": "markdown",
      "source": [
        "Loading the normalized variables from disk"
      ],
      "metadata": {
        "id": "GnrqAXo-bMof"
      }
    },
    {
      "cell_type": "code",
      "source": [
        "X_norm = np.loadtxt('X_norm.csv', delimiter=',').reshape(-1, 1, 187)\n",
        "y_np = np.loadtxt('y_np.csv', delimiter=',').reshape(-1, 1)"
      ],
      "metadata": {
        "execution": {
          "iopub.status.busy": "2024-02-18T09:06:59.960938Z",
          "iopub.execute_input": "2024-02-18T09:06:59.961708Z",
          "iopub.status.idle": "2024-02-18T09:07:07.42387Z",
          "shell.execute_reply.started": "2024-02-18T09:06:59.961674Z",
          "shell.execute_reply": "2024-02-18T09:07:07.423074Z"
        },
        "trusted": true,
        "id": "tgRdQTZ6bMog"
      },
      "execution_count": 19,
      "outputs": []
    },
    {
      "cell_type": "code",
      "source": [
        "print(X_norm.shape)\n",
        "print(y_np.shape)"
      ],
      "metadata": {
        "execution": {
          "iopub.status.busy": "2024-02-18T09:07:07.424858Z",
          "iopub.execute_input": "2024-02-18T09:07:07.425106Z",
          "iopub.status.idle": "2024-02-18T09:07:07.429998Z",
          "shell.execute_reply.started": "2024-02-18T09:07:07.425085Z",
          "shell.execute_reply": "2024-02-18T09:07:07.429005Z"
        },
        "trusted": true,
        "id": "n-4FE35nbMog",
        "colab": {
          "base_uri": "https://localhost:8080/"
        },
        "outputId": "6ab69fa5-fd20-4e39-93dd-4b5a66325a7a"
      },
      "execution_count": 20,
      "outputs": [
        {
          "output_type": "stream",
          "name": "stdout",
          "text": [
            "(87554, 1, 187)\n",
            "(87554, 1)\n"
          ]
        }
      ]
    },
    {
      "cell_type": "code",
      "source": [
        "#change y_np data type to int\n",
        "y_np = y_np.astype('int')\n",
        "y_np.dtype"
      ],
      "metadata": {
        "execution": {
          "iopub.status.busy": "2024-02-18T09:07:07.431034Z",
          "iopub.execute_input": "2024-02-18T09:07:07.431307Z",
          "iopub.status.idle": "2024-02-18T09:07:07.441508Z",
          "shell.execute_reply.started": "2024-02-18T09:07:07.431285Z",
          "shell.execute_reply": "2024-02-18T09:07:07.440635Z"
        },
        "trusted": true,
        "id": "Zf1h-h3YbMog",
        "colab": {
          "base_uri": "https://localhost:8080/"
        },
        "outputId": "212d4130-2e48-4790-c603-d2894b9f075d"
      },
      "execution_count": 21,
      "outputs": [
        {
          "output_type": "execute_result",
          "data": {
            "text/plain": [
              "dtype('int64')"
            ]
          },
          "metadata": {},
          "execution_count": 21
        }
      ]
    },
    {
      "cell_type": "markdown",
      "source": [
        "split the data into training and validation sets using scikit-learn"
      ],
      "metadata": {
        "id": "ogcCBF5LbMog"
      }
    },
    {
      "cell_type": "code",
      "source": [
        "#shuffle the data and split into train and validation sets\n",
        "X_train, X_val, y_train, y_val = train_test_split(X_norm, y_np, test_size=0.2, shuffle=True)"
      ],
      "metadata": {
        "execution": {
          "iopub.status.busy": "2024-02-18T09:07:07.442649Z",
          "iopub.execute_input": "2024-02-18T09:07:07.442927Z",
          "iopub.status.idle": "2024-02-18T09:07:07.489528Z",
          "shell.execute_reply.started": "2024-02-18T09:07:07.442906Z",
          "shell.execute_reply": "2024-02-18T09:07:07.488767Z"
        },
        "trusted": true,
        "id": "29tggupcbMoh"
      },
      "execution_count": 22,
      "outputs": []
    },
    {
      "cell_type": "markdown",
      "source": [
        "Now check for class imbalance"
      ],
      "metadata": {
        "id": "VckC7vTAbMoh"
      }
    },
    {
      "cell_type": "code",
      "source": [
        "#print the frequency of each class in the train and validation sets\n",
        "print(f'Frequency of each class in the train set')\n",
        "unique, counts = np.unique(y_train, return_counts=True)\n",
        "for i in range(len(unique)):\n",
        "    print(f'{class_names[unique[i]]}: {counts[i]}')\n",
        "\n",
        "print(f'Frequency of each class in the validation set')\n",
        "unique, counts = np.unique(y_val, return_counts=True)\n",
        "for i in range(len(unique)):\n",
        "    print(f'{class_names[unique[i]]}: {counts[i]}')"
      ],
      "metadata": {
        "execution": {
          "iopub.status.busy": "2024-02-18T09:07:07.490561Z",
          "iopub.execute_input": "2024-02-18T09:07:07.490846Z",
          "iopub.status.idle": "2024-02-18T09:07:07.500358Z",
          "shell.execute_reply.started": "2024-02-18T09:07:07.490821Z",
          "shell.execute_reply": "2024-02-18T09:07:07.499461Z"
        },
        "trusted": true,
        "id": "Dy-7OxETbMoh",
        "colab": {
          "base_uri": "https://localhost:8080/"
        },
        "outputId": "281e0ce6-9592-4891-a3c9-ced986f46983"
      },
      "execution_count": 23,
      "outputs": [
        {
          "output_type": "stream",
          "name": "stdout",
          "text": [
            "Frequency of each class in the train set\n",
            "N: 57965\n",
            "S: 1764\n",
            "V: 4656\n",
            "F: 504\n",
            "Q: 5154\n",
            "Frequency of each class in the validation set\n",
            "N: 14506\n",
            "S: 459\n",
            "V: 1132\n",
            "F: 137\n",
            "Q: 1277\n"
          ]
        }
      ]
    },
    {
      "cell_type": "markdown",
      "source": [
        "define a hyper-parameters dictionary"
      ],
      "metadata": {
        "id": "3iDHlitobMoi"
      }
    },
    {
      "cell_type": "code",
      "source": [
        "hyper_params = {'bs': 1024,\n",
        "                                'lr': 1e-3,\n",
        "                                'lr_decay': 0.3,\n",
        "                                'epochs':50,\n",
        "                                }"
      ],
      "metadata": {
        "execution": {
          "iopub.status.busy": "2024-02-18T09:07:07.50144Z",
          "iopub.execute_input": "2024-02-18T09:07:07.50179Z",
          "iopub.status.idle": "2024-02-18T09:07:07.506637Z",
          "shell.execute_reply.started": "2024-02-18T09:07:07.501764Z",
          "shell.execute_reply": "2024-02-18T09:07:07.50581Z"
        },
        "trusted": true,
        "id": "aV3mIjPebMoi"
      },
      "execution_count": 24,
      "outputs": []
    },
    {
      "cell_type": "code",
      "source": [
        "#pytorch dataset and dataloader\n",
        "train_ds = torch.utils.data.TensorDataset(torch.from_numpy(X_train).float(), torch.from_numpy(y_train).long())\n",
        "val_ds = torch.utils.data.TensorDataset(torch.from_numpy(X_val).float(), torch.from_numpy(y_val).long())"
      ],
      "metadata": {
        "execution": {
          "iopub.status.busy": "2024-02-18T09:07:07.507923Z",
          "iopub.execute_input": "2024-02-18T09:07:07.508271Z",
          "iopub.status.idle": "2024-02-18T09:07:07.561912Z",
          "shell.execute_reply.started": "2024-02-18T09:07:07.508241Z",
          "shell.execute_reply": "2024-02-18T09:07:07.560915Z"
        },
        "trusted": true,
        "id": "5zuCKJZhbMoi"
      },
      "execution_count": 25,
      "outputs": []
    },
    {
      "cell_type": "code",
      "source": [
        "len(train_ds), len(val_ds)"
      ],
      "metadata": {
        "execution": {
          "iopub.status.busy": "2024-02-18T09:07:07.563232Z",
          "iopub.execute_input": "2024-02-18T09:07:07.563556Z",
          "iopub.status.idle": "2024-02-18T09:07:07.569657Z",
          "shell.execute_reply.started": "2024-02-18T09:07:07.563525Z",
          "shell.execute_reply": "2024-02-18T09:07:07.568552Z"
        },
        "trusted": true,
        "id": "48qqloQZbMoj",
        "colab": {
          "base_uri": "https://localhost:8080/"
        },
        "outputId": "2bc359fa-75fb-4006-874b-c429cad02e3f"
      },
      "execution_count": 26,
      "outputs": [
        {
          "output_type": "execute_result",
          "data": {
            "text/plain": [
              "(70043, 17511)"
            ]
          },
          "metadata": {},
          "execution_count": 26
        }
      ]
    },
    {
      "cell_type": "markdown",
      "source": [
        "compute the weight of each class by inverting their distribution and normalizing it"
      ],
      "metadata": {
        "id": "0O-rrsYIbMoj"
      }
    },
    {
      "cell_type": "code",
      "source": [
        "#the class distribution is not uniform so we have to define weights for each class\n",
        "class_dist = np.unique(y_train, return_counts=True)[1] #index 1 returns the counts\n",
        "class_dist = class_dist/np.sum(class_dist) #normalize to get 0-1 values\n",
        "# normalize the weights\n",
        "weights = 1/class_dist #invert to compensate for class distribution imbalance\n",
        "weights = weights/weights.sum() #normalize to get values 0-1\n",
        "weights, class_names"
      ],
      "metadata": {
        "execution": {
          "iopub.status.busy": "2024-02-18T09:07:07.571272Z",
          "iopub.execute_input": "2024-02-18T09:07:07.57158Z",
          "iopub.status.idle": "2024-02-18T09:07:07.584579Z",
          "shell.execute_reply.started": "2024-02-18T09:07:07.571552Z",
          "shell.execute_reply": "2024-02-18T09:07:07.583366Z"
        },
        "trusted": true,
        "id": "xp4T_A1bbMoj",
        "colab": {
          "base_uri": "https://localhost:8080/"
        },
        "outputId": "8609dc85-e9f9-4c11-aee4-79f76763dd8a"
      },
      "execution_count": 27,
      "outputs": [
        {
          "output_type": "execute_result",
          "data": {
            "text/plain": [
              "(array([0.00579488, 0.19041973, 0.07214356, 0.66646906, 0.06517276]),\n",
              " {0: 'N', 1: 'S', 2: 'V', 3: 'F', 4: 'Q'})"
            ]
          },
          "metadata": {},
          "execution_count": 27
        }
      ]
    },
    {
      "cell_type": "markdown",
      "source": [
        "assign each example in the training set the weight we computed in the above cell"
      ],
      "metadata": {
        "id": "HDtFYb-JbMok"
      }
    },
    {
      "cell_type": "code",
      "source": [
        "#get weights for each example in the dataset\n",
        "data_weights = np.zeros(y_train.shape[0]) #shape (m, )\n",
        "for i in range(y_train.shape[0]): #for each example we assign the corresponding weight\n",
        "    data_weights[i] = weights[y_train[i, 0]]\n",
        "data_weights[:10]"
      ],
      "metadata": {
        "execution": {
          "iopub.status.busy": "2024-02-18T09:07:07.585912Z",
          "iopub.execute_input": "2024-02-18T09:07:07.586555Z",
          "iopub.status.idle": "2024-02-18T09:07:07.647262Z",
          "shell.execute_reply.started": "2024-02-18T09:07:07.586523Z",
          "shell.execute_reply": "2024-02-18T09:07:07.64629Z"
        },
        "trusted": true,
        "id": "ou-ZDJwybMok",
        "colab": {
          "base_uri": "https://localhost:8080/"
        },
        "outputId": "1a2b3e6d-a5fc-4d41-c804-1c6709b7cfd2"
      },
      "execution_count": 28,
      "outputs": [
        {
          "output_type": "execute_result",
          "data": {
            "text/plain": [
              "array([0.00579488, 0.00579488, 0.07214356, 0.00579488, 0.00579488,\n",
              "       0.00579488, 0.00579488, 0.00579488, 0.00579488, 0.00579488])"
            ]
          },
          "metadata": {},
          "execution_count": 28
        }
      ]
    },
    {
      "cell_type": "markdown",
      "source": [
        "pass the weights to the WeightedRandomSampler to sample according to the normalized weights"
      ],
      "metadata": {
        "id": "FjBmk_ChbMok"
      }
    },
    {
      "cell_type": "code",
      "source": [
        "#data loader - we use the random weights sampler to balance the classes\n",
        "train_dl = DataLoader(train_ds, batch_size=hyper_params['bs'], sampler=WeightedRandomSampler(weights=data_weights, num_samples= len(y_train), replacement=True))\n",
        "val_dl = DataLoader(val_ds, batch_size=hyper_params['bs'])"
      ],
      "metadata": {
        "execution": {
          "iopub.status.busy": "2024-02-18T09:07:07.65355Z",
          "iopub.execute_input": "2024-02-18T09:07:07.653823Z",
          "iopub.status.idle": "2024-02-18T09:07:07.659209Z",
          "shell.execute_reply.started": "2024-02-18T09:07:07.653801Z",
          "shell.execute_reply": "2024-02-18T09:07:07.658314Z"
        },
        "trusted": true,
        "id": "1mwM2SPNbMok"
      },
      "execution_count": 29,
      "outputs": []
    },
    {
      "cell_type": "markdown",
      "source": [
        "check the training dataloader for class distributions"
      ],
      "metadata": {
        "id": "eq_wXa72bMol"
      }
    },
    {
      "cell_type": "code",
      "source": [
        "#get the class distribution in dataloader\n",
        "for batch in train_dl:\n",
        "    print(batch[1].shape)\n",
        "    unique, counts = np.unique(batch[1], return_counts=True)\n",
        "    for i in range(len(unique)):\n",
        "        print(f'{class_names[unique[i]]}: {counts[i]}')\n",
        "    break"
      ],
      "metadata": {
        "execution": {
          "iopub.status.busy": "2024-02-18T09:07:07.660698Z",
          "iopub.execute_input": "2024-02-18T09:07:07.660978Z",
          "iopub.status.idle": "2024-02-18T09:07:07.722731Z",
          "shell.execute_reply.started": "2024-02-18T09:07:07.660949Z",
          "shell.execute_reply": "2024-02-18T09:07:07.721807Z"
        },
        "trusted": true,
        "id": "76iyqkRVbMol",
        "colab": {
          "base_uri": "https://localhost:8080/"
        },
        "outputId": "b54e85d2-664e-4e4b-f087-0f08c1d00732"
      },
      "execution_count": 30,
      "outputs": [
        {
          "output_type": "stream",
          "name": "stdout",
          "text": [
            "torch.Size([1024, 1])\n",
            "N: 216\n",
            "S: 186\n",
            "V: 221\n",
            "F: 214\n",
            "Q: 187\n"
          ]
        }
      ]
    },
    {
      "cell_type": "markdown",
      "source": [
        "Network Architecture"
      ],
      "metadata": {
        "id": "0pMHGQAKbMos"
      }
    },
    {
      "cell_type": "code",
      "source": [
        "#make some convolutional blocks to use in the model\n",
        "def nin_block(in_channels, out_channels, kernel_size, padding, strides):\n",
        "    return nn.Sequential(\n",
        "        nn.Conv1d(in_channels, out_channels, kernel_size, strides, padding),\n",
        "        nn.BatchNorm1d(out_channels),\n",
        "        nn.GELU(),\n",
        "        nn.Conv1d(out_channels, out_channels, kernel_size=1), nn.GELU(),\n",
        "        nn.Conv1d(out_channels, out_channels, kernel_size=1), nn.GELU()\n",
        "    )"
      ],
      "metadata": {
        "execution": {
          "iopub.status.busy": "2024-02-18T09:07:07.723767Z",
          "iopub.execute_input": "2024-02-18T09:07:07.724015Z",
          "iopub.status.idle": "2024-02-18T09:07:07.729836Z",
          "shell.execute_reply.started": "2024-02-18T09:07:07.723994Z",
          "shell.execute_reply": "2024-02-18T09:07:07.728992Z"
        },
        "trusted": true,
        "id": "LcBH2i4pbMos"
      },
      "execution_count": 31,
      "outputs": []
    },
    {
      "cell_type": "code",
      "source": [
        "def get_model():\n",
        "    return nn.Sequential( #input shape: (batch_size, 1, 187)\n",
        "        nin_block(1, 48, kernel_size=11, strides=4, padding=0), #output shape: (batch_size, 48, 44)\n",
        "        nn.MaxPool1d(3, stride=2), #output shape: (batch_size, 48, 21)\n",
        "        nin_block(48, 128, kernel_size=5, strides=1, padding=2), #output shape: (batch_size, 128, 21)\n",
        "        nn.MaxPool1d(3, stride=2), #output shape: (batch_size, 128, 10)\n",
        "        nin_block(128, 256, kernel_size=3, strides=1, padding=1), #output shape: (batch_size, 256, 10)\n",
        "        nn.MaxPool1d(3, stride=2), #output shape: (batch_size, 256, 4)\n",
        "        nn.Dropout(0.4),\n",
        "        #last layers for classification of 5 classes\n",
        "        nin_block(256, 5, kernel_size=3, strides=1, padding=1), #output shape: (batch_size, 5, 4)\n",
        "        nn.AdaptiveAvgPool1d(1), #output shape: (batch_size, 5, 1)\n",
        "        nn.Flatten() #output shape: (batch_size, 5)\n",
        "    )"
      ],
      "metadata": {
        "execution": {
          "iopub.status.busy": "2024-02-18T09:07:07.731098Z",
          "iopub.execute_input": "2024-02-18T09:07:07.731406Z",
          "iopub.status.idle": "2024-02-18T09:07:07.738814Z",
          "shell.execute_reply.started": "2024-02-18T09:07:07.731377Z",
          "shell.execute_reply": "2024-02-18T09:07:07.737831Z"
        },
        "trusted": true,
        "id": "P8bpPfvvbMot"
      },
      "execution_count": 32,
      "outputs": []
    },
    {
      "cell_type": "code",
      "source": [
        "model = get_model()"
      ],
      "metadata": {
        "execution": {
          "iopub.status.busy": "2024-02-18T09:07:07.739968Z",
          "iopub.execute_input": "2024-02-18T09:07:07.740291Z",
          "iopub.status.idle": "2024-02-18T09:07:07.768058Z",
          "shell.execute_reply.started": "2024-02-18T09:07:07.740262Z",
          "shell.execute_reply": "2024-02-18T09:07:07.767401Z"
        },
        "trusted": true,
        "id": "uItOcCJqbMot"
      },
      "execution_count": 33,
      "outputs": []
    },
    {
      "cell_type": "code",
      "source": [
        "#model size in MB\n",
        "print(f'Model size: {sum(p.numel() for p in model.parameters() if p.requires_grad)*4/(1024**2)} MB')\n",
        "#number of trainable parameters\n",
        "print(f'Number of trainable parameters: {sum(p.numel() for p in model.parameters() if p.requires_grad)}')"
      ],
      "metadata": {
        "execution": {
          "iopub.status.busy": "2024-02-18T09:07:07.76927Z",
          "iopub.execute_input": "2024-02-18T09:07:07.769596Z",
          "iopub.status.idle": "2024-02-18T09:07:07.774983Z",
          "shell.execute_reply.started": "2024-02-18T09:07:07.769567Z",
          "shell.execute_reply": "2024-02-18T09:07:07.774134Z"
        },
        "trusted": true,
        "id": "p5LogyYUbMot",
        "colab": {
          "base_uri": "https://localhost:8080/"
        },
        "outputId": "c2c4a6a6-aef8-4567-c091-e940bcfdaa78"
      },
      "execution_count": 34,
      "outputs": [
        {
          "output_type": "stream",
          "name": "stdout",
          "text": [
            "Model size: 1.1599540710449219 MB\n",
            "Number of trainable parameters: 304075\n"
          ]
        }
      ]
    },
    {
      "cell_type": "code",
      "source": [
        "#find device to run the model on\n",
        "device = torch.device('cuda' if torch.cuda.is_available() else 'cpu')\n",
        "device"
      ],
      "metadata": {
        "execution": {
          "iopub.status.busy": "2024-02-18T09:07:07.776293Z",
          "iopub.execute_input": "2024-02-18T09:07:07.776607Z",
          "iopub.status.idle": "2024-02-18T09:07:07.811917Z",
          "shell.execute_reply.started": "2024-02-18T09:07:07.776584Z",
          "shell.execute_reply": "2024-02-18T09:07:07.811041Z"
        },
        "trusted": true,
        "id": "sSunfq8ObMot",
        "colab": {
          "base_uri": "https://localhost:8080/"
        },
        "outputId": "cd7daab0-22b0-467c-a02f-9961e5cfaa24"
      },
      "execution_count": 35,
      "outputs": [
        {
          "output_type": "execute_result",
          "data": {
            "text/plain": [
              "device(type='cuda')"
            ]
          },
          "metadata": {},
          "execution_count": 35
        }
      ]
    },
    {
      "cell_type": "code",
      "source": [
        "#move the model to the device\n",
        "model = model.to(device)"
      ],
      "metadata": {
        "execution": {
          "iopub.status.busy": "2024-02-18T09:07:07.813175Z",
          "iopub.execute_input": "2024-02-18T09:07:07.813512Z",
          "iopub.status.idle": "2024-02-18T09:07:07.950554Z",
          "shell.execute_reply.started": "2024-02-18T09:07:07.813462Z",
          "shell.execute_reply": "2024-02-18T09:07:07.949753Z"
        },
        "trusted": true,
        "id": "fWkug6VYbMou"
      },
      "execution_count": 36,
      "outputs": []
    },
    {
      "cell_type": "code",
      "source": [
        "class_names"
      ],
      "metadata": {
        "execution": {
          "iopub.status.busy": "2024-02-18T09:07:07.951675Z",
          "iopub.execute_input": "2024-02-18T09:07:07.95197Z",
          "iopub.status.idle": "2024-02-18T09:07:07.957754Z",
          "shell.execute_reply.started": "2024-02-18T09:07:07.951944Z",
          "shell.execute_reply": "2024-02-18T09:07:07.95692Z"
        },
        "trusted": true,
        "id": "X-ok0bIbbMou",
        "colab": {
          "base_uri": "https://localhost:8080/"
        },
        "outputId": "ffed7ab9-9156-407d-f470-2a77062d3790"
      },
      "execution_count": 37,
      "outputs": [
        {
          "output_type": "execute_result",
          "data": {
            "text/plain": [
              "{0: 'N', 1: 'S', 2: 'V', 3: 'F', 4: 'Q'}"
            ]
          },
          "metadata": {},
          "execution_count": 37
        }
      ]
    },
    {
      "cell_type": "code",
      "source": [
        "#loss function\n",
        "criterion = nn.CrossEntropyLoss(weight=torch.tensor([1, 1.1, 2.5, 3, 1], dtype=torch.float, device=device)) #CE loss automatically uses indices as targets"
      ],
      "metadata": {
        "execution": {
          "iopub.status.busy": "2024-02-18T09:07:07.95882Z",
          "iopub.execute_input": "2024-02-18T09:07:07.959087Z",
          "iopub.status.idle": "2024-02-18T09:07:07.965947Z",
          "shell.execute_reply.started": "2024-02-18T09:07:07.959065Z",
          "shell.execute_reply": "2024-02-18T09:07:07.965042Z"
        },
        "trusted": true,
        "id": "aJRq7GWwbMou"
      },
      "execution_count": 38,
      "outputs": []
    },
    {
      "cell_type": "code",
      "source": [
        "#optimizer\n",
        "optimizer = torch.optim.Adam(model.parameters(), lr=hyper_params['lr'])"
      ],
      "metadata": {
        "execution": {
          "iopub.status.busy": "2024-02-18T09:07:07.967075Z",
          "iopub.execute_input": "2024-02-18T09:07:07.967376Z",
          "iopub.status.idle": "2024-02-18T09:07:10.25132Z",
          "shell.execute_reply.started": "2024-02-18T09:07:07.967343Z",
          "shell.execute_reply": "2024-02-18T09:07:10.250471Z"
        },
        "trusted": true,
        "id": "kxiXbiu7bMou"
      },
      "execution_count": 39,
      "outputs": []
    },
    {
      "cell_type": "code",
      "source": [
        "#lr_scheduler\n",
        "lr_scheduler = StepLR(optimizer, step_size=10, gamma=hyper_params['lr_decay'], verbose=True)"
      ],
      "metadata": {
        "execution": {
          "iopub.status.busy": "2024-02-18T09:07:10.252597Z",
          "iopub.execute_input": "2024-02-18T09:07:10.25311Z",
          "iopub.status.idle": "2024-02-18T09:07:10.258757Z",
          "shell.execute_reply.started": "2024-02-18T09:07:10.253078Z",
          "shell.execute_reply": "2024-02-18T09:07:10.257663Z"
        },
        "trusted": true,
        "id": "eQbbGZdLbMov",
        "colab": {
          "base_uri": "https://localhost:8080/"
        },
        "outputId": "db7fcf48-9f50-40b0-f8fb-12196ce2a934"
      },
      "execution_count": 40,
      "outputs": [
        {
          "output_type": "stream",
          "name": "stdout",
          "text": [
            "Adjusting learning rate of group 0 to 1.0000e-03.\n"
          ]
        }
      ]
    },
    {
      "cell_type": "code",
      "source": [
        "import matplotlib.pyplot as plt\n",
        "\n",
        "def train(model, criterion, optimizer, train_dl, val_dl, epochs, lr_scheduler=None):\n",
        "    train_losses = []\n",
        "    val_losses = []\n",
        "    train_accuracies = []  # To record training accuracy\n",
        "    val_accuracies = []    # To record validation accuracy\n",
        "    best_model_params = deepcopy(model.state_dict())\n",
        "    best_accuracy = 0.0\n",
        "    for epoch in range(epochs):\n",
        "        print(f'Epoch {epoch+1}/{epochs}')\n",
        "        print('-'*10)\n",
        "        train_loss = 0\n",
        "        val_loss = 0\n",
        "        model.train()  # set the model to training mode\n",
        "        corrects_train = 0  # To calculate training accuracy\n",
        "        total_train = 0\n",
        "        for x, y in train_dl:\n",
        "            x = x.to(device)\n",
        "            y = y.to(device)\n",
        "            optimizer.zero_grad()\n",
        "            output = model(x)\n",
        "            loss = criterion(output, y.squeeze())\n",
        "            loss.backward()\n",
        "            optimizer.step()\n",
        "            train_loss += loss.item() * x.size(0)\n",
        "            # Calculate training accuracy\n",
        "            _, preds_train = torch.max(output, 1)\n",
        "            corrects_train += torch.sum(preds_train == y.squeeze()).item()\n",
        "            total_train += y.size(0)\n",
        "        train_accuracy = corrects_train / total_train\n",
        "        train_accuracies.append(train_accuracy)\n",
        "        train_loss = train_loss / len(train_dl.dataset)\n",
        "        train_losses.append(train_loss)\n",
        "\n",
        "        if lr_scheduler is not None:\n",
        "            lr_scheduler.step()  # update the learning rate every n epochs\n",
        "\n",
        "        model.eval()  # set the model to evaluation mode\n",
        "        corrects_val = 0  # To calculate validation accuracy\n",
        "        total_val = 0\n",
        "        for x, y in val_dl:\n",
        "            x = x.to(device)\n",
        "            y = y.to(device)\n",
        "            output = model(x)\n",
        "            loss = criterion(output, y.squeeze())\n",
        "            val_loss += loss.item() * x.size(0)\n",
        "            # Calculate validation accuracy\n",
        "            _, preds_val = torch.max(output, 1)\n",
        "            corrects_val += torch.sum(preds_val == y.squeeze()).item()\n",
        "            total_val += y.size(0)\n",
        "        val_accuracy = corrects_val / total_val\n",
        "        val_accuracies.append(val_accuracy)\n",
        "        val_loss = val_loss / len(val_dl.dataset)\n",
        "        val_losses.append(val_loss)\n",
        "\n",
        "        print(f'Train Loss: {train_loss:.4f} \\t Val Loss: {val_loss:.4f} \\t Val Accuracy: {val_accuracy:.4f}')\n",
        "\n",
        "        # if the model performs better on the validation set, save the model parameters\n",
        "        if val_accuracy > best_accuracy:\n",
        "            best_accuracy = val_accuracy\n",
        "            best_model_params = deepcopy(model.state_dict())\n",
        "\n",
        "    print('Finished Training and the best accuracy is: {:.4f}'.format(best_accuracy))\n",
        "    # Plot the training and validation accuracy curves\n",
        "    plt.figure(figsize=(10, 5))\n",
        "    plt.plot(range(1, len(train_accuracies) + 1), train_accuracies, label='Training Accuracy')\n",
        "    plt.plot(range(1, len(val_accuracies) + 1), val_accuracies, label='Validation Accuracy')\n",
        "    plt.xlabel('Epoch')\n",
        "    plt.ylabel('Accuracy')\n",
        "    plt.title('Training and Validation Accuracy Curves')\n",
        "    plt.legend()\n",
        "    plt.show()\n",
        "\n",
        "    return train_losses, val_losses, best_model_params, best_accuracy\n"
      ],
      "metadata": {
        "execution": {
          "iopub.status.busy": "2024-02-18T09:07:10.259773Z",
          "iopub.execute_input": "2024-02-18T09:07:10.260047Z",
          "iopub.status.idle": "2024-02-18T09:07:10.277005Z",
          "shell.execute_reply.started": "2024-02-18T09:07:10.260024Z",
          "shell.execute_reply": "2024-02-18T09:07:10.275976Z"
        },
        "trusted": true,
        "id": "feUxXKvfbMov"
      },
      "execution_count": 41,
      "outputs": []
    },
    {
      "cell_type": "code",
      "source": [
        "train_losses, val_losses, best_model_params, best_accuracy = train(model, criterion, optimizer, train_dl, val_dl, hyper_params['epochs'], lr_scheduler)"
      ],
      "metadata": {
        "execution": {
          "iopub.status.busy": "2024-02-18T09:07:10.290606Z",
          "iopub.execute_input": "2024-02-18T09:07:10.290848Z",
          "iopub.status.idle": "2024-02-18T09:08:50.48945Z",
          "shell.execute_reply.started": "2024-02-18T09:07:10.290827Z",
          "shell.execute_reply": "2024-02-18T09:08:50.48857Z"
        },
        "trusted": true,
        "id": "y8aBEDZLbMow",
        "colab": {
          "base_uri": "https://localhost:8080/",
          "height": 1000
        },
        "outputId": "d844291d-d810-4f33-c192-e90c93b5ed47"
      },
      "execution_count": 43,
      "outputs": [
        {
          "output_type": "stream",
          "name": "stdout",
          "text": [
            "Epoch 1/50\n",
            "----------\n",
            "Adjusting learning rate of group 0 to 1.0000e-03.\n",
            "Train Loss: 1.4236 \t Val Loss: 1.5033 \t Val Accuracy: 0.3733\n",
            "Epoch 2/50\n",
            "----------\n",
            "Adjusting learning rate of group 0 to 1.0000e-03.\n",
            "Train Loss: 1.1559 \t Val Loss: 0.7082 \t Val Accuracy: 0.7978\n",
            "Epoch 3/50\n",
            "----------\n",
            "Adjusting learning rate of group 0 to 1.0000e-03.\n",
            "Train Loss: 1.0043 \t Val Loss: 0.5479 \t Val Accuracy: 0.8171\n",
            "Epoch 4/50\n",
            "----------\n",
            "Adjusting learning rate of group 0 to 1.0000e-03.\n",
            "Train Loss: 0.9071 \t Val Loss: 0.4800 \t Val Accuracy: 0.8365\n",
            "Epoch 5/50\n",
            "----------\n",
            "Adjusting learning rate of group 0 to 1.0000e-03.\n",
            "Train Loss: 0.7536 \t Val Loss: 0.3415 \t Val Accuracy: 0.9449\n",
            "Epoch 6/50\n",
            "----------\n",
            "Adjusting learning rate of group 0 to 1.0000e-03.\n",
            "Train Loss: 0.5516 \t Val Loss: 0.3012 \t Val Accuracy: 0.9407\n",
            "Epoch 7/50\n",
            "----------\n",
            "Adjusting learning rate of group 0 to 1.0000e-03.\n",
            "Train Loss: 0.4245 \t Val Loss: 0.2879 \t Val Accuracy: 0.9241\n",
            "Epoch 8/50\n",
            "----------\n",
            "Adjusting learning rate of group 0 to 1.0000e-03.\n",
            "Train Loss: 0.3261 \t Val Loss: 0.1790 \t Val Accuracy: 0.9555\n",
            "Epoch 9/50\n",
            "----------\n",
            "Adjusting learning rate of group 0 to 1.0000e-03.\n",
            "Train Loss: 0.2478 \t Val Loss: 0.2165 \t Val Accuracy: 0.9405\n",
            "Epoch 10/50\n",
            "----------\n",
            "Adjusting learning rate of group 0 to 3.0000e-04.\n",
            "Train Loss: 0.1720 \t Val Loss: 0.2325 \t Val Accuracy: 0.9399\n",
            "Epoch 11/50\n",
            "----------\n",
            "Adjusting learning rate of group 0 to 3.0000e-04.\n",
            "Train Loss: 0.1113 \t Val Loss: 0.1586 \t Val Accuracy: 0.9636\n",
            "Epoch 12/50\n",
            "----------\n",
            "Adjusting learning rate of group 0 to 3.0000e-04.\n",
            "Train Loss: 0.0874 \t Val Loss: 0.1278 \t Val Accuracy: 0.9769\n",
            "Epoch 13/50\n",
            "----------\n",
            "Adjusting learning rate of group 0 to 3.0000e-04.\n",
            "Train Loss: 0.0723 \t Val Loss: 0.1208 \t Val Accuracy: 0.9774\n",
            "Epoch 14/50\n",
            "----------\n",
            "Adjusting learning rate of group 0 to 3.0000e-04.\n",
            "Train Loss: 0.0604 \t Val Loss: 0.1202 \t Val Accuracy: 0.9781\n",
            "Epoch 15/50\n",
            "----------\n",
            "Adjusting learning rate of group 0 to 3.0000e-04.\n",
            "Train Loss: 0.0522 \t Val Loss: 0.1251 \t Val Accuracy: 0.9773\n",
            "Epoch 16/50\n",
            "----------\n",
            "Adjusting learning rate of group 0 to 3.0000e-04.\n",
            "Train Loss: 0.0435 \t Val Loss: 0.1125 \t Val Accuracy: 0.9810\n",
            "Epoch 17/50\n",
            "----------\n",
            "Adjusting learning rate of group 0 to 3.0000e-04.\n",
            "Train Loss: 0.0424 \t Val Loss: 0.1062 \t Val Accuracy: 0.9825\n",
            "Epoch 18/50\n",
            "----------\n",
            "Adjusting learning rate of group 0 to 3.0000e-04.\n",
            "Train Loss: 0.0369 \t Val Loss: 0.1059 \t Val Accuracy: 0.9826\n",
            "Epoch 19/50\n",
            "----------\n",
            "Adjusting learning rate of group 0 to 3.0000e-04.\n",
            "Train Loss: 0.0312 \t Val Loss: 0.0975 \t Val Accuracy: 0.9834\n",
            "Epoch 20/50\n",
            "----------\n",
            "Adjusting learning rate of group 0 to 9.0000e-05.\n",
            "Train Loss: 0.0275 \t Val Loss: 0.1039 \t Val Accuracy: 0.9832\n",
            "Epoch 21/50\n",
            "----------\n",
            "Adjusting learning rate of group 0 to 9.0000e-05.\n",
            "Train Loss: 0.0242 \t Val Loss: 0.0980 \t Val Accuracy: 0.9844\n",
            "Epoch 22/50\n",
            "----------\n",
            "Adjusting learning rate of group 0 to 9.0000e-05.\n",
            "Train Loss: 0.0217 \t Val Loss: 0.0967 \t Val Accuracy: 0.9847\n",
            "Epoch 23/50\n",
            "----------\n",
            "Adjusting learning rate of group 0 to 9.0000e-05.\n",
            "Train Loss: 0.0213 \t Val Loss: 0.0967 \t Val Accuracy: 0.9851\n",
            "Epoch 24/50\n",
            "----------\n",
            "Adjusting learning rate of group 0 to 9.0000e-05.\n",
            "Train Loss: 0.0200 \t Val Loss: 0.0954 \t Val Accuracy: 0.9853\n",
            "Epoch 25/50\n",
            "----------\n",
            "Adjusting learning rate of group 0 to 9.0000e-05.\n",
            "Train Loss: 0.0189 \t Val Loss: 0.0954 \t Val Accuracy: 0.9850\n",
            "Epoch 26/50\n",
            "----------\n",
            "Adjusting learning rate of group 0 to 9.0000e-05.\n",
            "Train Loss: 0.0185 \t Val Loss: 0.0937 \t Val Accuracy: 0.9853\n",
            "Epoch 27/50\n",
            "----------\n",
            "Adjusting learning rate of group 0 to 9.0000e-05.\n",
            "Train Loss: 0.0175 \t Val Loss: 0.0952 \t Val Accuracy: 0.9857\n",
            "Epoch 28/50\n",
            "----------\n",
            "Adjusting learning rate of group 0 to 9.0000e-05.\n",
            "Train Loss: 0.0166 \t Val Loss: 0.0945 \t Val Accuracy: 0.9852\n",
            "Epoch 29/50\n",
            "----------\n",
            "Adjusting learning rate of group 0 to 9.0000e-05.\n",
            "Train Loss: 0.0159 \t Val Loss: 0.0938 \t Val Accuracy: 0.9850\n",
            "Epoch 30/50\n",
            "----------\n",
            "Adjusting learning rate of group 0 to 2.7000e-05.\n",
            "Train Loss: 0.0156 \t Val Loss: 0.0925 \t Val Accuracy: 0.9854\n",
            "Epoch 31/50\n",
            "----------\n",
            "Adjusting learning rate of group 0 to 2.7000e-05.\n",
            "Train Loss: 0.0145 \t Val Loss: 0.0935 \t Val Accuracy: 0.9856\n",
            "Epoch 32/50\n",
            "----------\n",
            "Adjusting learning rate of group 0 to 2.7000e-05.\n",
            "Train Loss: 0.0144 \t Val Loss: 0.0935 \t Val Accuracy: 0.9858\n",
            "Epoch 33/50\n",
            "----------\n",
            "Adjusting learning rate of group 0 to 2.7000e-05.\n",
            "Train Loss: 0.0144 \t Val Loss: 0.0926 \t Val Accuracy: 0.9856\n",
            "Epoch 34/50\n",
            "----------\n",
            "Adjusting learning rate of group 0 to 2.7000e-05.\n",
            "Train Loss: 0.0139 \t Val Loss: 0.0931 \t Val Accuracy: 0.9857\n",
            "Epoch 35/50\n",
            "----------\n",
            "Adjusting learning rate of group 0 to 2.7000e-05.\n",
            "Train Loss: 0.0138 \t Val Loss: 0.0936 \t Val Accuracy: 0.9856\n",
            "Epoch 36/50\n",
            "----------\n",
            "Adjusting learning rate of group 0 to 2.7000e-05.\n",
            "Train Loss: 0.0137 \t Val Loss: 0.0947 \t Val Accuracy: 0.9856\n",
            "Epoch 37/50\n",
            "----------\n",
            "Adjusting learning rate of group 0 to 2.7000e-05.\n",
            "Train Loss: 0.0136 \t Val Loss: 0.0937 \t Val Accuracy: 0.9857\n",
            "Epoch 38/50\n",
            "----------\n",
            "Adjusting learning rate of group 0 to 2.7000e-05.\n",
            "Train Loss: 0.0135 \t Val Loss: 0.0932 \t Val Accuracy: 0.9852\n",
            "Epoch 39/50\n",
            "----------\n",
            "Adjusting learning rate of group 0 to 2.7000e-05.\n",
            "Train Loss: 0.0127 \t Val Loss: 0.0928 \t Val Accuracy: 0.9857\n",
            "Epoch 40/50\n",
            "----------\n",
            "Adjusting learning rate of group 0 to 8.1000e-06.\n",
            "Train Loss: 0.0127 \t Val Loss: 0.0935 \t Val Accuracy: 0.9860\n",
            "Epoch 41/50\n",
            "----------\n",
            "Adjusting learning rate of group 0 to 8.1000e-06.\n",
            "Train Loss: 0.0127 \t Val Loss: 0.0931 \t Val Accuracy: 0.9861\n",
            "Epoch 42/50\n",
            "----------\n",
            "Adjusting learning rate of group 0 to 8.1000e-06.\n",
            "Train Loss: 0.0126 \t Val Loss: 0.0929 \t Val Accuracy: 0.9860\n",
            "Epoch 43/50\n",
            "----------\n",
            "Adjusting learning rate of group 0 to 8.1000e-06.\n",
            "Train Loss: 0.0126 \t Val Loss: 0.0938 \t Val Accuracy: 0.9861\n",
            "Epoch 44/50\n",
            "----------\n",
            "Adjusting learning rate of group 0 to 8.1000e-06.\n",
            "Train Loss: 0.0127 \t Val Loss: 0.0935 \t Val Accuracy: 0.9860\n",
            "Epoch 45/50\n",
            "----------\n",
            "Adjusting learning rate of group 0 to 8.1000e-06.\n",
            "Train Loss: 0.0122 \t Val Loss: 0.0935 \t Val Accuracy: 0.9860\n",
            "Epoch 46/50\n",
            "----------\n",
            "Adjusting learning rate of group 0 to 8.1000e-06.\n",
            "Train Loss: 0.0122 \t Val Loss: 0.0934 \t Val Accuracy: 0.9860\n",
            "Epoch 47/50\n",
            "----------\n",
            "Adjusting learning rate of group 0 to 8.1000e-06.\n",
            "Train Loss: 0.0123 \t Val Loss: 0.0934 \t Val Accuracy: 0.9858\n",
            "Epoch 48/50\n",
            "----------\n",
            "Adjusting learning rate of group 0 to 8.1000e-06.\n",
            "Train Loss: 0.0122 \t Val Loss: 0.0933 \t Val Accuracy: 0.9859\n",
            "Epoch 49/50\n",
            "----------\n",
            "Adjusting learning rate of group 0 to 8.1000e-06.\n",
            "Train Loss: 0.0123 \t Val Loss: 0.0929 \t Val Accuracy: 0.9860\n",
            "Epoch 50/50\n",
            "----------\n",
            "Adjusting learning rate of group 0 to 2.4300e-06.\n",
            "Train Loss: 0.0121 \t Val Loss: 0.0931 \t Val Accuracy: 0.9861\n",
            "Finished Training and the best accuracy is: 0.9861\n"
          ]
        },
        {
          "output_type": "display_data",
          "data": {
            "text/plain": [
              "<Figure size 1000x500 with 1 Axes>"
            ],
            "image/png": "[encoded data removed]"
          },
          "metadata": {}
        }
      ]
    },
    {
      "cell_type": "code",
      "source": [
        "#plot the training and validation losses with smooth lines\n",
        "plt.plot(np.convolve(train_losses, np.ones(3)/3, mode='valid'), label='train')\n",
        "plt.plot(np.convolve(val_losses, np.ones(3)/3, mode='valid'), label='val')\n",
        "plt.legend()\n",
        "plt.xlabel('Epochs')\n",
        "plt.ylabel('Loss')\n",
        "plt.show()"
      ],
      "metadata": {
        "execution": {
          "iopub.status.busy": "2024-02-18T09:08:50.490732Z",
          "iopub.execute_input": "2024-02-18T09:08:50.490991Z",
          "iopub.status.idle": "2024-02-18T09:08:50.684924Z",
          "shell.execute_reply.started": "2024-02-18T09:08:50.490968Z",
          "shell.execute_reply": "2024-02-18T09:08:50.684005Z"
        },
        "trusted": true,
        "id": "Ai3MWSrwbMow",
        "colab": {
          "base_uri": "https://localhost:8080/",
          "height": 449
        },
        "outputId": "ffe16726-c498-4930-cb00-c6b55b222efb"
      },
      "execution_count": 44,
      "outputs": [
        {
          "output_type": "display_data",
          "data": {
            "text/plain": [
              "<Figure size 640x480 with 1 Axes>"
            ],
            "image/png": "[encoded data removed]"
          },
          "metadata": {}
        }
      ]
    },
    {
      "cell_type": "code",
      "source": [
        "#load the best model parameters\n",
        "model.load_state_dict(best_model_params)\n",
        "#save the model to a file\n",
        "torch.save(model.state_dict(), f'best_model{best_accuracy:.2f}.pt')"
      ],
      "metadata": {
        "execution": {
          "iopub.status.busy": "2024-02-18T09:08:50.686038Z",
          "iopub.execute_input": "2024-02-18T09:08:50.686311Z",
          "iopub.status.idle": "2024-02-18T09:08:50.700741Z",
          "shell.execute_reply.started": "2024-02-18T09:08:50.686286Z",
          "shell.execute_reply": "2024-02-18T09:08:50.700011Z"
        },
        "trusted": true,
        "id": "uDMnQ9hfbMow"
      },
      "execution_count": 45,
      "outputs": []
    },
    {
      "cell_type": "code",
      "source": [
        "#use this cell to load weights from disk\n",
        "model = get_model().to(device=device)\n",
        "model.load_state_dict(torch.load('best_model0.99.pt'))"
      ],
      "metadata": {
        "execution": {
          "iopub.status.busy": "2024-02-18T09:08:50.701897Z",
          "iopub.execute_input": "2024-02-18T09:08:50.702506Z",
          "iopub.status.idle": "2024-02-18T09:08:50.726471Z",
          "shell.execute_reply.started": "2024-02-18T09:08:50.702459Z",
          "shell.execute_reply": "2024-02-18T09:08:50.72564Z"
        },
        "trusted": true,
        "id": "FgBmBMidbMox",
        "colab": {
          "base_uri": "https://localhost:8080/"
        },
        "outputId": "63973b5e-c3f6-4984-f22e-6ad2ced533c4"
      },
      "execution_count": 46,
      "outputs": [
        {
          "output_type": "execute_result",
          "data": {
            "text/plain": [
              "<All keys matched successfully>"
            ]
          },
          "metadata": {},
          "execution_count": 46
        }
      ]
    },
    {
      "cell_type": "code",
      "source": [
        "#confusion matrix function\n",
        "def plot_cm(model, dl, categories, normalize='true'):\n",
        "    #plot the confusion matrix\n",
        "    model.eval()\n",
        "    y_pred = []\n",
        "    y_true = []\n",
        "    for x, y in dl:\n",
        "        x = x.to(device)\n",
        "        y = y.to(device)\n",
        "        output = model(x) #out shape: (batch_size, 5)\n",
        "        y_pred.extend(torch.argmax(output, dim=1).cpu().numpy())\n",
        "        y_true.extend(y.cpu().numpy())\n",
        "    cm = confusion_matrix(y_true, y_pred, normalize=normalize)\n",
        "    sns.heatmap(cm, annot=True, fmt= '.2f', cmap='Blues', xticklabels=categories.values(), yticklabels=categories.values())\n",
        "    plt.xlabel('Predicted')\n",
        "    plt.ylabel('True')\n",
        "    plt.show()\n",
        "    print(classification_report(y_true, y_pred, target_names=class_names.values()))"
      ],
      "metadata": {
        "execution": {
          "iopub.status.busy": "2024-02-18T09:08:50.727719Z",
          "iopub.execute_input": "2024-02-18T09:08:50.728154Z",
          "iopub.status.idle": "2024-02-18T09:08:50.735864Z",
          "shell.execute_reply.started": "2024-02-18T09:08:50.728121Z",
          "shell.execute_reply": "2024-02-18T09:08:50.734928Z"
        },
        "trusted": true,
        "id": "EvK5mMlCbMox"
      },
      "execution_count": 47,
      "outputs": []
    },
    {
      "cell_type": "code",
      "source": [
        "#plot the confusion matrix using the validation set\n",
        "plot_cm(model, val_dl, class_names)"
      ],
      "metadata": {
        "execution": {
          "iopub.status.busy": "2024-02-18T09:08:50.737105Z",
          "iopub.execute_input": "2024-02-18T09:08:50.737836Z",
          "iopub.status.idle": "2024-02-18T09:08:51.461367Z",
          "shell.execute_reply.started": "2024-02-18T09:08:50.737811Z",
          "shell.execute_reply": "2024-02-18T09:08:51.460431Z"
        },
        "trusted": true,
        "id": "jE0o0WWdbMox",
        "colab": {
          "base_uri": "https://localhost:8080/",
          "height": 667
        },
        "outputId": "69bba8e1-84b1-49c9-eacb-c9df68ce8eb9"
      },
      "execution_count": 48,
      "outputs": [
        {
          "output_type": "display_data",
          "data": {
            "text/plain": [
              "<Figure size 640x480 with 2 Axes>"
            ],
            "image/png": "[encoded data removed]"
          },
          "metadata": {}
        },
        {
          "output_type": "stream",
          "name": "stdout",
          "text": [
            "              precision    recall  f1-score   support\n",
            "\n",
            "           N       0.99      0.99      0.99     14506\n",
            "           S       0.92      0.83      0.88       459\n",
            "           V       0.96      0.97      0.96      1132\n",
            "           F       0.85      0.77      0.81       137\n",
            "           Q       0.99      0.99      0.99      1277\n",
            "\n",
            "    accuracy                           0.99     17511\n",
            "   macro avg       0.94      0.91      0.93     17511\n",
            "weighted avg       0.99      0.99      0.99     17511\n",
            "\n"
          ]
        }
      ]
    }
  ]
}